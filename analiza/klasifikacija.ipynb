{
 "cells": [
  {
   "cell_type": "markdown",
   "metadata": {},
   "source": [
    "## Naivni Bayesov klasifikator\n",
    "za napovedovanje cene rabljenega avtomobila."
   ]
  },
  {
   "cell_type": "code",
   "execution_count": 35,
   "metadata": {},
   "outputs": [],
   "source": [
    "import pandas as pd\n",
    "\n",
    "avti = pd.read_csv(\"../podatki/rabljeni_avtomobili.csv\")\n",
    "\n",
    "# zvezne parametre zaokrožimo\n",
    "avti.cena = avti.cena.round(-3)\n",
    "avti.kilovati = avti.kilovati.round(-1)\n",
    "avti.stevilo_kilometrov = avti.stevilo_kilometrov.round(-5)"
   ]
  },
  {
   "cell_type": "markdown",
   "metadata": {},
   "source": [
    "Avtomobile razdelimo na učno in testno množico."
   ]
  },
  {
   "cell_type": "code",
   "execution_count": 36,
   "metadata": {},
   "outputs": [],
   "source": [
    "import numpy as np\n",
    "maska = np.random.rand(len(avti)) < 0.9\n",
    "parametri = [\"ime_znamke\", \"id_modela\", \"menjalnik\", \"vrsta_motorja\", \"tip_modela\", \"kilovati\", \"leto_izdelave\", \"stevilo_kilometrov\"]\n",
    "učni_avti = avti[maska][parametri+[\"cena\"]].dropna()\n",
    "testni_avti = avti[~maska][parametri+[\"cena\"]].dropna()"
   ]
  },
  {
   "cell_type": "code",
   "execution_count": 37,
   "metadata": {},
   "outputs": [],
   "source": [
    "pojavitve_cen = učni_avti.groupby(\"cena\").size()\n",
    "verjetnosti_cen = pojavitve_cen / len(učni_avti)"
   ]
  },
  {
   "cell_type": "markdown",
   "metadata": {},
   "source": [
    "$p_i$ ... i-ti parameter  \n",
    "$c$ ... cena\n",
    "$$P(P_i = p_i \\mid C = c)$$"
   ]
  },
  {
   "cell_type": "code",
   "execution_count": 38,
   "metadata": {},
   "outputs": [],
   "source": [
    "pogojne_verjetnosti_parametrov = pd.concat(\n",
    "    [\n",
    "        (učni_avti.groupby([\"cena\", parameter]).size() / pojavitve_cen)\n",
    "        .unstack().transpose().fillna(1/len(učni_avti))\n",
    "        for parameter\n",
    "        in parametri\n",
    "    ],\n",
    "    keys=parametri\n",
    ")"
   ]
  },
  {
   "cell_type": "code",
   "execution_count": 39,
   "metadata": {},
   "outputs": [],
   "source": [
    "def napovej_ceno(avtomobil: pd.Series):\n",
    "    indeksi = set(zip(avtomobil.index, avtomobil))\n",
    "    verjetne_cene = pogojne_verjetnosti_parametrov[\n",
    "        pogojne_verjetnosti_parametrov.index.isin(indeksi)\n",
    "    ].product(numeric_only=True)*verjetnosti_cen\n",
    "    verjetne_cene /= verjetne_cene.sum()\n",
    "    return (verjetne_cene.index * verjetne_cene).sum().round(-2)"
   ]
  },
  {
   "cell_type": "code",
   "execution_count": 40,
   "metadata": {},
   "outputs": [],
   "source": [
    "testni_avti[\"napovedana_cena\"] = testni_avti.apply(napovej_ceno, axis=1)"
   ]
  },
  {
   "cell_type": "markdown",
   "metadata": {},
   "source": [
    "Povprečna napaka napovedi"
   ]
  },
  {
   "cell_type": "code",
   "execution_count": 41,
   "metadata": {},
   "outputs": [
    {
     "data": {
      "text/plain": [
       "7374.02247643667"
      ]
     },
     "execution_count": 41,
     "metadata": {},
     "output_type": "execute_result"
    }
   ],
   "source": [
    "RMSE = (((testni_avti.napovedana_cena-testni_avti.cena)**2).sum()/len(testni_avti))**0.5\n",
    "RMSE"
   ]
  },
  {
   "cell_type": "code",
   "execution_count": 42,
   "metadata": {},
   "outputs": [
    {
     "data": {
      "text/html": [
       "<div>\n",
       "<style scoped>\n",
       "    .dataframe tbody tr th:only-of-type {\n",
       "        vertical-align: middle;\n",
       "    }\n",
       "\n",
       "    .dataframe tbody tr th {\n",
       "        vertical-align: top;\n",
       "    }\n",
       "\n",
       "    .dataframe thead th {\n",
       "        text-align: right;\n",
       "    }\n",
       "</style>\n",
       "<table border=\"1\" class=\"dataframe\">\n",
       "  <thead>\n",
       "    <tr style=\"text-align: right;\">\n",
       "      <th></th>\n",
       "      <th>ime_znamke</th>\n",
       "      <th>id_modela</th>\n",
       "      <th>menjalnik</th>\n",
       "      <th>vrsta_motorja</th>\n",
       "      <th>tip_modela</th>\n",
       "      <th>kilovati</th>\n",
       "      <th>leto_izdelave</th>\n",
       "      <th>stevilo_kilometrov</th>\n",
       "      <th>cena</th>\n",
       "      <th>napovedana_cena</th>\n",
       "    </tr>\n",
       "  </thead>\n",
       "  <tbody>\n",
       "    <tr>\n",
       "      <th>6122</th>\n",
       "      <td>Fiat</td>\n",
       "      <td>791.0</td>\n",
       "      <td>ROČNI</td>\n",
       "      <td>BENCIN</td>\n",
       "      <td>HATCHBACK</td>\n",
       "      <td>50.0</td>\n",
       "      <td>2016.0</td>\n",
       "      <td>100000.0</td>\n",
       "      <td>10000.0</td>\n",
       "      <td>9000.0</td>\n",
       "    </tr>\n",
       "    <tr>\n",
       "      <th>20238</th>\n",
       "      <td>Volkswagen</td>\n",
       "      <td>2638.0</td>\n",
       "      <td>AVTOMATSKI</td>\n",
       "      <td>DIEZEL</td>\n",
       "      <td>KARAVAN</td>\n",
       "      <td>100.0</td>\n",
       "      <td>2008.0</td>\n",
       "      <td>300000.0</td>\n",
       "      <td>2000.0</td>\n",
       "      <td>6100.0</td>\n",
       "    </tr>\n",
       "    <tr>\n",
       "      <th>1677</th>\n",
       "      <td>Audi</td>\n",
       "      <td>147.0</td>\n",
       "      <td>AVTOMATSKI</td>\n",
       "      <td>DIEZEL</td>\n",
       "      <td>HATCHBACK</td>\n",
       "      <td>110.0</td>\n",
       "      <td>2013.0</td>\n",
       "      <td>200000.0</td>\n",
       "      <td>16000.0</td>\n",
       "      <td>15600.0</td>\n",
       "    </tr>\n",
       "    <tr>\n",
       "      <th>7433</th>\n",
       "      <td>Ford</td>\n",
       "      <td>1010.0</td>\n",
       "      <td>ROČNI</td>\n",
       "      <td>BENCIN</td>\n",
       "      <td>COUPÉ</td>\n",
       "      <td>120.0</td>\n",
       "      <td>1997.0</td>\n",
       "      <td>200000.0</td>\n",
       "      <td>8000.0</td>\n",
       "      <td>8800.0</td>\n",
       "    </tr>\n",
       "    <tr>\n",
       "      <th>22404</th>\n",
       "      <td>Volkswagen</td>\n",
       "      <td>2671.0</td>\n",
       "      <td>ROČNI</td>\n",
       "      <td>DIEZEL</td>\n",
       "      <td>KOMBI</td>\n",
       "      <td>70.0</td>\n",
       "      <td>2011.0</td>\n",
       "      <td>200000.0</td>\n",
       "      <td>12000.0</td>\n",
       "      <td>7700.0</td>\n",
       "    </tr>\n",
       "    <tr>\n",
       "      <th>273</th>\n",
       "      <td>Aston Martin</td>\n",
       "      <td>102.0</td>\n",
       "      <td>AVTOMATSKI</td>\n",
       "      <td>BENCIN</td>\n",
       "      <td>COUPÉ</td>\n",
       "      <td>470.0</td>\n",
       "      <td>2021.0</td>\n",
       "      <td>0.0</td>\n",
       "      <td>249000.0</td>\n",
       "      <td>154000.0</td>\n",
       "    </tr>\n",
       "    <tr>\n",
       "      <th>9094</th>\n",
       "      <td>Lancia</td>\n",
       "      <td>1416.0</td>\n",
       "      <td>ROČNI</td>\n",
       "      <td>BENCIN</td>\n",
       "      <td>HATCHBACK</td>\n",
       "      <td>140.0</td>\n",
       "      <td>1996.0</td>\n",
       "      <td>200000.0</td>\n",
       "      <td>5000.0</td>\n",
       "      <td>1700.0</td>\n",
       "    </tr>\n",
       "    <tr>\n",
       "      <th>19709</th>\n",
       "      <td>Volkswagen</td>\n",
       "      <td>2630.0</td>\n",
       "      <td>ROČNI</td>\n",
       "      <td>DIEZEL</td>\n",
       "      <td>KARAVAN</td>\n",
       "      <td>80.0</td>\n",
       "      <td>2013.0</td>\n",
       "      <td>200000.0</td>\n",
       "      <td>9000.0</td>\n",
       "      <td>11700.0</td>\n",
       "    </tr>\n",
       "    <tr>\n",
       "      <th>2747</th>\n",
       "      <td>Audi</td>\n",
       "      <td>140.0</td>\n",
       "      <td>ROČNI</td>\n",
       "      <td>DIEZEL</td>\n",
       "      <td>SUV</td>\n",
       "      <td>80.0</td>\n",
       "      <td>2020.0</td>\n",
       "      <td>100000.0</td>\n",
       "      <td>24000.0</td>\n",
       "      <td>23000.0</td>\n",
       "    </tr>\n",
       "    <tr>\n",
       "      <th>6231</th>\n",
       "      <td>Fiat</td>\n",
       "      <td>879.0</td>\n",
       "      <td>ROČNI</td>\n",
       "      <td>DIEZEL</td>\n",
       "      <td>HATCHBACK</td>\n",
       "      <td>90.0</td>\n",
       "      <td>2011.0</td>\n",
       "      <td>200000.0</td>\n",
       "      <td>3000.0</td>\n",
       "      <td>3700.0</td>\n",
       "    </tr>\n",
       "  </tbody>\n",
       "</table>\n",
       "</div>"
      ],
      "text/plain": [
       "         ime_znamke  id_modela   menjalnik vrsta_motorja tip_modela  kilovati  \\\n",
       "6122           Fiat      791.0       ROČNI        BENCIN  HATCHBACK      50.0   \n",
       "20238    Volkswagen     2638.0  AVTOMATSKI        DIEZEL    KARAVAN     100.0   \n",
       "1677           Audi      147.0  AVTOMATSKI        DIEZEL  HATCHBACK     110.0   \n",
       "7433           Ford     1010.0       ROČNI        BENCIN      COUPÉ     120.0   \n",
       "22404    Volkswagen     2671.0       ROČNI        DIEZEL      KOMBI      70.0   \n",
       "273    Aston Martin      102.0  AVTOMATSKI        BENCIN      COUPÉ     470.0   \n",
       "9094         Lancia     1416.0       ROČNI        BENCIN  HATCHBACK     140.0   \n",
       "19709    Volkswagen     2630.0       ROČNI        DIEZEL    KARAVAN      80.0   \n",
       "2747           Audi      140.0       ROČNI        DIEZEL        SUV      80.0   \n",
       "6231           Fiat      879.0       ROČNI        DIEZEL  HATCHBACK      90.0   \n",
       "\n",
       "       leto_izdelave  stevilo_kilometrov      cena  napovedana_cena  \n",
       "6122          2016.0            100000.0   10000.0           9000.0  \n",
       "20238         2008.0            300000.0    2000.0           6100.0  \n",
       "1677          2013.0            200000.0   16000.0          15600.0  \n",
       "7433          1997.0            200000.0    8000.0           8800.0  \n",
       "22404         2011.0            200000.0   12000.0           7700.0  \n",
       "273           2021.0                 0.0  249000.0         154000.0  \n",
       "9094          1996.0            200000.0    5000.0           1700.0  \n",
       "19709         2013.0            200000.0    9000.0          11700.0  \n",
       "2747          2020.0            100000.0   24000.0          23000.0  \n",
       "6231          2011.0            200000.0    3000.0           3700.0  "
      ]
     },
     "execution_count": 42,
     "metadata": {},
     "output_type": "execute_result"
    }
   ],
   "source": [
    "testni_avti.sample(10)"
   ]
  }
 ],
 "metadata": {
  "kernelspec": {
   "display_name": "Python 3.10.7 ('usr')",
   "language": "python",
   "name": "python3"
  },
  "language_info": {
   "codemirror_mode": {
    "name": "ipython",
    "version": 3
   },
   "file_extension": ".py",
   "mimetype": "text/x-python",
   "name": "python",
   "nbconvert_exporter": "python",
   "pygments_lexer": "ipython3",
   "version": "3.10.7"
  },
  "orig_nbformat": 4,
  "vscode": {
   "interpreter": {
    "hash": "31f2aee4e71d21fbe5cf8b01ff0e069b9275f58929596ceb00d14d90e3e16cd6"
   }
  }
 },
 "nbformat": 4,
 "nbformat_minor": 2
}
