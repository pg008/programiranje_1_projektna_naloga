{
 "cells": [
  {
   "cell_type": "markdown",
   "metadata": {},
   "source": [
    "## Naivni Bayesov klasifikator\n",
    "za napovedovanje cene rabljenega avtomobila.\n",
    "\n",
    "Ceno bom poskušal napovedati iz podatka o znamki, vrsti motorja, vrsti menjalnika, močjo motorja, leta izdelave in števila prevoženih kilometrov."
   ]
  },
  {
   "cell_type": "code",
   "execution_count": 1,
   "metadata": {},
   "outputs": [],
   "source": [
    "import pandas as pd\n",
    "\n",
    "avti = pd.read_csv(\"../podatki/rabljeni_avtomobili.csv\")\n",
    "\n",
    "# zvezne parametre zaokrožimo\n",
    "avti.cena = avti.cena.round(-3)\n",
    "avti.kilovati = avti.kilovati.round(-1)\n",
    "avti.stevilo_kilometrov = avti.stevilo_kilometrov.round(-5)"
   ]
  },
  {
   "cell_type": "markdown",
   "metadata": {},
   "source": [
    "Avtomobile razdelimo na učno in testno množico."
   ]
  },
  {
   "cell_type": "code",
   "execution_count": 2,
   "metadata": {},
   "outputs": [],
   "source": [
    "import numpy as np\n",
    "maska = np.random.rand(len(avti)) < 0.8\n",
    "parametri = [\"ime_znamke\", \"menjalnik\", \"vrsta_motorja\", \"kilovati\", \"leto_izdelave\", \"stevilo_kilometrov\"]\n",
    "učni_avti = avti[maska][parametri+[\"cena\"]].dropna()\n",
    "testni_avti = avti[~maska][parametri+[\"cena\"]].dropna()"
   ]
  },
  {
   "cell_type": "code",
   "execution_count": 3,
   "metadata": {},
   "outputs": [],
   "source": [
    "pojavitve_cen = učni_avti.groupby(\"cena\").size()\n",
    "verjetnosti_cen = pojavitve_cen / len(učni_avti)"
   ]
  },
  {
   "cell_type": "markdown",
   "metadata": {},
   "source": [
    "$p_i$ ... i-ti parameter  \n",
    "$c$ ... cena\n",
    "$$P(P_i = p_i \\mid C = c)$$"
   ]
  },
  {
   "cell_type": "code",
   "execution_count": 4,
   "metadata": {},
   "outputs": [],
   "source": [
    "pogojne_verjetnosti_parametrov = pd.concat(\n",
    "    [\n",
    "        (učni_avti.groupby([\"cena\", parameter]).size() / pojavitve_cen)\n",
    "        .unstack().transpose().fillna(1/len(učni_avti))\n",
    "        for parameter\n",
    "        in parametri\n",
    "    ],\n",
    "    keys=parametri\n",
    ")"
   ]
  },
  {
   "cell_type": "code",
   "execution_count": 5,
   "metadata": {},
   "outputs": [],
   "source": [
    "def napovej_ceno(avtomobil: pd.Series):\n",
    "    indeksi = set(zip(avtomobil.index, avtomobil))\n",
    "    verjetne_cene = pogojne_verjetnosti_parametrov[\n",
    "        pogojne_verjetnosti_parametrov.index.isin(indeksi)\n",
    "    ].product(numeric_only=True)*verjetnosti_cen\n",
    "    verjetne_cene /= verjetne_cene.sum()\n",
    "    return (verjetne_cene.index * verjetne_cene).sum().round(-2)"
   ]
  },
  {
   "cell_type": "code",
   "execution_count": 6,
   "metadata": {},
   "outputs": [],
   "source": [
    "testni_avti[\"napovedana_cena\"] = testni_avti.apply(napovej_ceno, axis=1)"
   ]
  },
  {
   "cell_type": "markdown",
   "metadata": {},
   "source": [
    "Povprečna napaka napovedi"
   ]
  },
  {
   "cell_type": "code",
   "execution_count": 7,
   "metadata": {},
   "outputs": [
    {
     "data": {
      "text/plain": [
       "7319.369418019654"
      ]
     },
     "execution_count": 7,
     "metadata": {},
     "output_type": "execute_result"
    }
   ],
   "source": [
    "RMSE = (((testni_avti.napovedana_cena-testni_avti.cena)**2).sum()/len(testni_avti))**0.5\n",
    "RMSE"
   ]
  },
  {
   "cell_type": "code",
   "execution_count": 8,
   "metadata": {},
   "outputs": [
    {
     "data": {
      "text/html": [
       "<div>\n",
       "<style scoped>\n",
       "    .dataframe tbody tr th:only-of-type {\n",
       "        vertical-align: middle;\n",
       "    }\n",
       "\n",
       "    .dataframe tbody tr th {\n",
       "        vertical-align: top;\n",
       "    }\n",
       "\n",
       "    .dataframe thead th {\n",
       "        text-align: right;\n",
       "    }\n",
       "</style>\n",
       "<table border=\"1\" class=\"dataframe\">\n",
       "  <thead>\n",
       "    <tr style=\"text-align: right;\">\n",
       "      <th></th>\n",
       "      <th>ime_znamke</th>\n",
       "      <th>menjalnik</th>\n",
       "      <th>vrsta_motorja</th>\n",
       "      <th>kilovati</th>\n",
       "      <th>leto_izdelave</th>\n",
       "      <th>stevilo_kilometrov</th>\n",
       "      <th>cena</th>\n",
       "      <th>napovedana_cena</th>\n",
       "    </tr>\n",
       "  </thead>\n",
       "  <tbody>\n",
       "    <tr>\n",
       "      <th>12031</th>\n",
       "      <td>Nissan</td>\n",
       "      <td>ROČNI</td>\n",
       "      <td>BENCIN</td>\n",
       "      <td>60.0</td>\n",
       "      <td>2008.0</td>\n",
       "      <td>200000.0</td>\n",
       "      <td>3000.0</td>\n",
       "      <td>3800.0</td>\n",
       "    </tr>\n",
       "    <tr>\n",
       "      <th>9356</th>\n",
       "      <td>Mazda</td>\n",
       "      <td>AVTOMATSKI</td>\n",
       "      <td>DIEZEL</td>\n",
       "      <td>130.0</td>\n",
       "      <td>2017.0</td>\n",
       "      <td>200000.0</td>\n",
       "      <td>22000.0</td>\n",
       "      <td>19400.0</td>\n",
       "    </tr>\n",
       "    <tr>\n",
       "      <th>10543</th>\n",
       "      <td>Mercedes-Benz</td>\n",
       "      <td>AVTOMATSKI</td>\n",
       "      <td>DIEZEL</td>\n",
       "      <td>150.0</td>\n",
       "      <td>2013.0</td>\n",
       "      <td>300000.0</td>\n",
       "      <td>17000.0</td>\n",
       "      <td>12600.0</td>\n",
       "    </tr>\n",
       "    <tr>\n",
       "      <th>1213</th>\n",
       "      <td>Audi</td>\n",
       "      <td>ROČNI</td>\n",
       "      <td>DIEZEL</td>\n",
       "      <td>110.0</td>\n",
       "      <td>2018.0</td>\n",
       "      <td>100000.0</td>\n",
       "      <td>19000.0</td>\n",
       "      <td>20500.0</td>\n",
       "    </tr>\n",
       "    <tr>\n",
       "      <th>789</th>\n",
       "      <td>Audi</td>\n",
       "      <td>ROČNI</td>\n",
       "      <td>DIEZEL</td>\n",
       "      <td>100.0</td>\n",
       "      <td>2012.0</td>\n",
       "      <td>200000.0</td>\n",
       "      <td>13000.0</td>\n",
       "      <td>10000.0</td>\n",
       "    </tr>\n",
       "    <tr>\n",
       "      <th>11842</th>\n",
       "      <td>Mitsubishi</td>\n",
       "      <td>AVTOMATSKI</td>\n",
       "      <td>DIEZEL</td>\n",
       "      <td>110.0</td>\n",
       "      <td>2017.0</td>\n",
       "      <td>100000.0</td>\n",
       "      <td>17000.0</td>\n",
       "      <td>24200.0</td>\n",
       "    </tr>\n",
       "    <tr>\n",
       "      <th>7340</th>\n",
       "      <td>Ford</td>\n",
       "      <td>AVTOMATSKI</td>\n",
       "      <td>DIEZEL</td>\n",
       "      <td>110.0</td>\n",
       "      <td>2017.0</td>\n",
       "      <td>200000.0</td>\n",
       "      <td>13000.0</td>\n",
       "      <td>20000.0</td>\n",
       "    </tr>\n",
       "    <tr>\n",
       "      <th>15609</th>\n",
       "      <td>Renault</td>\n",
       "      <td>ROČNI</td>\n",
       "      <td>BENCIN</td>\n",
       "      <td>80.0</td>\n",
       "      <td>2009.0</td>\n",
       "      <td>200000.0</td>\n",
       "      <td>3000.0</td>\n",
       "      <td>4500.0</td>\n",
       "    </tr>\n",
       "    <tr>\n",
       "      <th>14802</th>\n",
       "      <td>Renault</td>\n",
       "      <td>ROČNI</td>\n",
       "      <td>DIEZEL</td>\n",
       "      <td>80.0</td>\n",
       "      <td>2017.0</td>\n",
       "      <td>100000.0</td>\n",
       "      <td>12000.0</td>\n",
       "      <td>15000.0</td>\n",
       "    </tr>\n",
       "    <tr>\n",
       "      <th>19219</th>\n",
       "      <td>Volkswagen</td>\n",
       "      <td>ROČNI</td>\n",
       "      <td>DIEZEL</td>\n",
       "      <td>110.0</td>\n",
       "      <td>2013.0</td>\n",
       "      <td>300000.0</td>\n",
       "      <td>12000.0</td>\n",
       "      <td>11100.0</td>\n",
       "    </tr>\n",
       "  </tbody>\n",
       "</table>\n",
       "</div>"
      ],
      "text/plain": [
       "          ime_znamke   menjalnik vrsta_motorja  kilovati  leto_izdelave  \\\n",
       "12031         Nissan       ROČNI        BENCIN      60.0         2008.0   \n",
       "9356           Mazda  AVTOMATSKI        DIEZEL     130.0         2017.0   \n",
       "10543  Mercedes-Benz  AVTOMATSKI        DIEZEL     150.0         2013.0   \n",
       "1213            Audi       ROČNI        DIEZEL     110.0         2018.0   \n",
       "789             Audi       ROČNI        DIEZEL     100.0         2012.0   \n",
       "11842     Mitsubishi  AVTOMATSKI        DIEZEL     110.0         2017.0   \n",
       "7340            Ford  AVTOMATSKI        DIEZEL     110.0         2017.0   \n",
       "15609        Renault       ROČNI        BENCIN      80.0         2009.0   \n",
       "14802        Renault       ROČNI        DIEZEL      80.0         2017.0   \n",
       "19219     Volkswagen       ROČNI        DIEZEL     110.0         2013.0   \n",
       "\n",
       "       stevilo_kilometrov     cena  napovedana_cena  \n",
       "12031            200000.0   3000.0           3800.0  \n",
       "9356             200000.0  22000.0          19400.0  \n",
       "10543            300000.0  17000.0          12600.0  \n",
       "1213             100000.0  19000.0          20500.0  \n",
       "789              200000.0  13000.0          10000.0  \n",
       "11842            100000.0  17000.0          24200.0  \n",
       "7340             200000.0  13000.0          20000.0  \n",
       "15609            200000.0   3000.0           4500.0  \n",
       "14802            100000.0  12000.0          15000.0  \n",
       "19219            300000.0  12000.0          11100.0  "
      ]
     },
     "execution_count": 8,
     "metadata": {},
     "output_type": "execute_result"
    }
   ],
   "source": [
    "testni_avti.sample(10)"
   ]
  }
 ],
 "metadata": {
  "kernelspec": {
   "display_name": "Python 3.10.7 ('usr')",
   "language": "python",
   "name": "python3"
  },
  "language_info": {
   "codemirror_mode": {
    "name": "ipython",
    "version": 3
   },
   "file_extension": ".py",
   "mimetype": "text/x-python",
   "name": "python",
   "nbconvert_exporter": "python",
   "pygments_lexer": "ipython3",
   "version": "3.10.7"
  },
  "orig_nbformat": 4,
  "vscode": {
   "interpreter": {
    "hash": "31f2aee4e71d21fbe5cf8b01ff0e069b9275f58929596ceb00d14d90e3e16cd6"
   }
  }
 },
 "nbformat": 4,
 "nbformat_minor": 2
}
