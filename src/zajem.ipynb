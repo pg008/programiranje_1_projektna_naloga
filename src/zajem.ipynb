{
 "cells": [
  {
   "cell_type": "markdown",
   "metadata": {},
   "source": [
    "## Zajem podatkov s platforme avto.net"
   ]
  },
  {
   "cell_type": "code",
   "execution_count": 1,
   "metadata": {},
   "outputs": [
    {
     "name": "stderr",
     "output_type": "stream",
     "text": [
      "It seems that the gevent monkey-patching is being used.\n",
      "Please set an environment variable with:\n",
      "GEVENT_SUPPORT=True\n",
      "to enable gevent support in the debugger.\n",
      "\n",
      "PYDEV DEBUGGER WARNING:\n",
      "sys.settrace() should not be used when the debugger is being used.\n",
      "This may cause the debugger to stop working correctly.\n",
      "If this is needed, please check: \n",
      "http://pydev.blogspot.com/2007/06/why-cant-pydev-debugger-work-with.html\n",
      "to see how to restore the debug tracing back correctly.\n",
      "Call Location:\n",
      "  File \"/home/gabrijelpflaum/.local/lib/python3.10/site-packages/gevent/threadpool.py\", line 163, in _before_run_task\n",
      "    _sys.settrace(_get_thread_trace())\n",
      "\n",
      "\n",
      "PYDEV DEBUGGER WARNING:\n",
      "sys.settrace() should not be used when the debugger is being used.\n",
      "This may cause the debugger to stop working correctly.\n",
      "If this is needed, please check: \n",
      "http://pydev.blogspot.com/2007/06/why-cant-pydev-debugger-work-with.html\n",
      "to see how to restore the debug tracing back correctly.\n",
      "Call Location:\n",
      "  File \"/home/gabrijelpflaum/.local/lib/python3.10/site-packages/gevent/threadpool.py\", line 168, in _after_run_task\n",
      "    _sys.settrace(None)\n",
      "\n"
     ]
    },
    {
     "name": "stdout",
     "output_type": "stream",
     "text": [
      "1012 Nissan Silvia\n"
     ]
    },
    {
     "name": "stderr",
     "output_type": "stream",
     "text": [
      "It seems that the gevent monkey-patching is being used.\n",
      "Please set an environment variable with:\n",
      "GEVENT_SUPPORT=True\n",
      "to enable gevent support in the debugger.\n",
      "It seems that the gevent monkey-patching is being used.\n",
      "Please set an environment variable with:\n",
      "GEVENT_SUPPORT=True\n",
      "to enable gevent support in the debugger.\n",
      "It seems that the gevent monkey-patching is being used.\n",
      "Please set an environment variable with:\n",
      "GEVENT_SUPPORT=True\n",
      "to enable gevent support in the debugger.\n",
      "It seems that the gevent monkey-patching is being used.\n",
      "Please set an environment variable with:\n",
      "GEVENT_SUPPORT=True\n",
      "to enable gevent support in the debugger.\n",
      "It seems that the gevent monkey-patching is being used.\n",
      "Please set an environment variable with:\n",
      "GEVENT_SUPPORT=True\n",
      "to enable gevent support in the debugger.\n",
      "It seems that the gevent monkey-patching is being used.\n",
      "Please set an environment variable with:\n",
      "GEVENT_SUPPORT=True\n",
      "to enable gevent support in the debugger.\n",
      "It seems that the gevent monkey-patching is being used.\n",
      "Please set an environment variable with:\n",
      "GEVENT_SUPPORT=True\n",
      "to enable gevent support in the debugger.\n",
      "It seems that the gevent monkey-patching is being used.\n",
      "Please set an environment variable with:\n",
      "GEVENT_SUPPORT=True\n",
      "to enable gevent support in the debugger.\n",
      "It seems that the gevent monkey-patching is being used.\n",
      "Please set an environment variable with:\n",
      "GEVENT_SUPPORT=True\n",
      "to enable gevent support in the debugger.\n",
      "It seems that the gevent monkey-patching is being used.\n",
      "Please set an environment variable with:\n",
      "GEVENT_SUPPORT=True\n",
      "to enable gevent support in the debugger.\n",
      "It seems that the gevent monkey-patching is being used.\n",
      "Please set an environment variable with:\n",
      "GEVENT_SUPPORT=True\n",
      "to enable gevent support in the debugger.\n",
      "It seems that the gevent monkey-patching is being used.\n",
      "Please set an environment variable with:\n",
      "GEVENT_SUPPORT=True\n",
      "to enable gevent support in the debugger.\n",
      "It seems that the gevent monkey-patching is being used.\n",
      "Please set an environment variable with:\n",
      "GEVENT_SUPPORT=True\n",
      "to enable gevent support in the debugger.\n",
      "It seems that the gevent monkey-patching is being used.\n",
      "Please set an environment variable with:\n",
      "GEVENT_SUPPORT=True\n",
      "to enable gevent support in the debugger.\n",
      "It seems that the gevent monkey-patching is being used.\n",
      "Please set an environment variable with:\n",
      "GEVENT_SUPPORT=True\n",
      "to enable gevent support in the debugger.\n",
      "It seems that the gevent monkey-patching is being used.\n",
      "Please set an environment variable with:\n",
      "GEVENT_SUPPORT=True\n",
      "to enable gevent support in the debugger.\n",
      "It seems that the gevent monkey-patching is being used.\n",
      "Please set an environment variable with:\n",
      "GEVENT_SUPPORT=True\n",
      "to enable gevent support in the debugger.\n",
      "It seems that the gevent monkey-patching is being used.\n",
      "Please set an environment variable with:\n",
      "GEVENT_SUPPORT=True\n",
      "to enable gevent support in the debugger.\n",
      "It seems that the gevent monkey-patching is being used.\n",
      "Please set an environment variable with:\n",
      "GEVENT_SUPPORT=True\n",
      "to enable gevent support in the debugger.\n",
      "It seems that the gevent monkey-patching is being used.\n",
      "Please set an environment variable with:\n",
      "GEVENT_SUPPORT=True\n",
      "to enable gevent support in the debugger.\n",
      "It seems that the gevent monkey-patching is being used.\n",
      "Please set an environment variable with:\n",
      "GEVENT_SUPPORT=True\n",
      "to enable gevent support in the debugger.\n",
      "It seems that the gevent monkey-patching is being used.\n",
      "Please set an environment variable with:\n",
      "GEVENT_SUPPORT=True\n",
      "to enable gevent support in the debugger.\n",
      "It seems that the gevent monkey-patching is being used.\n",
      "Please set an environment variable with:\n",
      "GEVENT_SUPPORT=True\n",
      "to enable gevent support in the debugger.\n",
      "It seems that the gevent monkey-patching is being used.\n",
      "Please set an environment variable with:\n",
      "GEVENT_SUPPORT=True\n",
      "to enable gevent support in the debugger.\n",
      "It seems that the gevent monkey-patching is being used.\n",
      "Please set an environment variable with:\n",
      "GEVENT_SUPPORT=True\n",
      "to enable gevent support in the debugger.\n",
      "It seems that the gevent monkey-patching is being used.\n",
      "Please set an environment variable with:\n",
      "GEVENT_SUPPORT=True\n",
      "to enable gevent support in the debugger.\n",
      "It seems that the gevent monkey-patching is being used.\n",
      "Please set an environment variable with:\n",
      "GEVENT_SUPPORT=True\n",
      "to enable gevent support in the debugger.\n",
      "It seems that the gevent monkey-patching is being used.\n",
      "Please set an environment variable with:\n",
      "GEVENT_SUPPORT=True\n",
      "to enable gevent support in the debugger.\n",
      "It seems that the gevent monkey-patching is being used.\n",
      "Please set an environment variable with:\n",
      "GEVENT_SUPPORT=True\n",
      "to enable gevent support in the debugger.\n",
      "It seems that the gevent monkey-patching is being used.\n",
      "Please set an environment variable with:\n",
      "GEVENT_SUPPORT=True\n",
      "to enable gevent support in the debugger.\n",
      "It seems that the gevent monkey-patching is being used.\n",
      "Please set an environment variable with:\n",
      "GEVENT_SUPPORT=True\n",
      "to enable gevent support in the debugger.\n",
      "It seems that the gevent monkey-patching is being used.\n",
      "Please set an environment variable with:\n",
      "GEVENT_SUPPORT=True\n",
      "to enable gevent support in the debugger.\n",
      "It seems that the gevent monkey-patching is being used.\n",
      "Please set an environment variable with:\n",
      "GEVENT_SUPPORT=True\n",
      "to enable gevent support in the debugger.\n",
      "It seems that the gevent monkey-patching is being used.\n",
      "Please set an environment variable with:\n",
      "GEVENT_SUPPORT=True\n",
      "to enable gevent support in the debugger.\n",
      "It seems that the gevent monkey-patching is being used.\n",
      "Please set an environment variable with:\n",
      "GEVENT_SUPPORT=True\n",
      "to enable gevent support in the debugger.\n",
      "It seems that the gevent monkey-patching is being used.\n",
      "Please set an environment variable with:\n",
      "GEVENT_SUPPORT=True\n",
      "to enable gevent support in the debugger.\n",
      "It seems that the gevent monkey-patching is being used.\n",
      "Please set an environment variable with:\n",
      "GEVENT_SUPPORT=True\n",
      "to enable gevent support in the debugger.\n",
      "It seems that the gevent monkey-patching is being used.\n",
      "Please set an environment variable with:\n",
      "GEVENT_SUPPORT=True\n",
      "to enable gevent support in the debugger.\n",
      "It seems that the gevent monkey-patching is being used.\n",
      "Please set an environment variable with:\n",
      "GEVENT_SUPPORT=True\n",
      "to enable gevent support in the debugger.\n",
      "It seems that the gevent monkey-patching is being used.\n",
      "Please set an environment variable with:\n",
      "GEVENT_SUPPORT=True\n",
      "to enable gevent support in the debugger.\n",
      "It seems that the gevent monkey-patching is being used.\n",
      "Please set an environment variable with:\n",
      "GEVENT_SUPPORT=True\n",
      "to enable gevent support in the debugger.\n",
      "It seems that the gevent monkey-patching is being used.\n",
      "Please set an environment variable with:\n",
      "GEVENT_SUPPORT=True\n",
      "to enable gevent support in the debugger.\n",
      "It seems that the gevent monkey-patching is being used.\n",
      "Please set an environment variable with:\n",
      "GEVENT_SUPPORT=True\n",
      "to enable gevent support in the debugger.\n",
      "It seems that the gevent monkey-patching is being used.\n",
      "Please set an environment variable with:\n",
      "GEVENT_SUPPORT=True\n",
      "to enable gevent support in the debugger.\n",
      "It seems that the gevent monkey-patching is being used.\n",
      "Please set an environment variable with:\n",
      "GEVENT_SUPPORT=True\n",
      "to enable gevent support in the debugger.\n"
     ]
    },
    {
     "name": "stdout",
     "output_type": "stream",
     "text": [
      "Blokada! Nadaljujem?\n"
     ]
    },
    {
     "name": "stderr",
     "output_type": "stream",
     "text": [
      "It seems that the gevent monkey-patching is being used.\n",
      "Please set an environment variable with:\n",
      "GEVENT_SUPPORT=True\n",
      "to enable gevent support in the debugger.\n"
     ]
    },
    {
     "name": "stdout",
     "output_type": "stream",
     "text": [
      "Blokada! Nadaljujem?\n",
      "Blokada! Nadaljujem?\n"
     ]
    }
   ],
   "source": [
    "from iskalnik import IskalnikAvtoNet, Filter, modeli_avtonet\n",
    "import time\n",
    "\n",
    "iskalnik = IskalnikAvtoNet()\n",
    "izhodni_csv = \"../podatki/avtonet_avtomobili_1012.csv\"\n",
    "začetni_indeks = 1012\n",
    "\n",
    "for i, (znamka, model) in list(enumerate(\n",
    "    modeli_avtonet\n",
    "))[začetni_indeks:]:                        # Zajemali bomo po modelih\n",
    "    print(i, znamka, model)                 # izpišemo trenutno znamko in model\n",
    "    iskalnik.nastavi_filter(                # nastavimo model kot iskalni filter\n",
    "        Filter(model=(znamka, model))\n",
    "    )\n",
    "    iskalnik.išči(                          # začnemo z iskanjem\n",
    "        podrobno=False,\n",
    "        zamenjaj_imena=False,\n",
    "        čakaj_med_requesti=0.5              # koliko sekund počakamo med zaporednima requestoma\n",
    "    )\n",
    "    time.sleep(0.5)                           # koliko sekund počakamo med modeli avtomobilov\n",
    "    iskalnik.tabela(\n",
    "    ).to_csv(                               # sproti prepisujemo datoteko z najdenimi avtomobili\n",
    "        izhodni_csv                         # za primer, da nas strežnik blokira\n",
    "    )"
   ]
  },
  {
   "cell_type": "code",
   "execution_count": 2,
   "metadata": {},
   "outputs": [
    {
     "data": {
      "text/plain": [
       "1526"
      ]
     },
     "execution_count": 2,
     "metadata": {},
     "output_type": "execute_result"
    }
   ],
   "source": [
    "from iskalnik import modeli_avtonet\n",
    "\n",
    "len(modeli_avtonet)"
   ]
  },
  {
   "cell_type": "markdown",
   "metadata": {},
   "source": [
    "## Zajem podatkov z bolhe"
   ]
  },
  {
   "cell_type": "code",
   "execution_count": null,
   "metadata": {},
   "outputs": [],
   "source": [
    "from iskalnik import IskalnikBolha\n",
    "i = IskalnikBolha()\n",
    "i.išči()"
   ]
  },
  {
   "cell_type": "code",
   "execution_count": null,
   "metadata": {},
   "outputs": [],
   "source": [
    "avti = i.tabela()\n",
    "avti"
   ]
  },
  {
   "cell_type": "code",
   "execution_count": null,
   "metadata": {},
   "outputs": [],
   "source": [
    "avti.to_csv(\"../podatki/bolha_avtomobili_4.csv\")"
   ]
  },
  {
   "cell_type": "code",
   "execution_count": null,
   "metadata": {},
   "outputs": [],
   "source": []
  }
 ],
 "metadata": {
  "kernelspec": {
   "display_name": "Python 3.10.7 ('usr')",
   "language": "python",
   "name": "python3"
  },
  "language_info": {
   "codemirror_mode": {
    "name": "ipython",
    "version": 3
   },
   "file_extension": ".py",
   "mimetype": "text/x-python",
   "name": "python",
   "nbconvert_exporter": "python",
   "pygments_lexer": "ipython3",
   "version": "3.10.7"
  },
  "orig_nbformat": 4,
  "vscode": {
   "interpreter": {
    "hash": "767d51c1340bd893661ea55ea3124f6de3c7a262a8b4abca0554b478b1e2ff90"
   }
  }
 },
 "nbformat": 4,
 "nbformat_minor": 2
}
