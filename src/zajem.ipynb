{
 "cells": [
  {
   "cell_type": "markdown",
   "metadata": {},
   "source": [
    "## Zajem podatkov s platforme avto.net"
   ]
  },
  {
   "cell_type": "code",
   "execution_count": 2,
   "metadata": {},
   "outputs": [
    {
     "name": "stdout",
     "output_type": "stream",
     "text": [
      "Abarth 595\n"
     ]
    },
    {
     "ename": "Exception",
     "evalue": "Ne najdem števila strani, https://www.avto.net/Ads/results.asp?znamka=Abarth&model=595&modelID=&tip=&znamka2=&model2=&tip2=&znamka3=&model3=&tip3=&cenaMin=0&cenaMax=999999&letnikMin=0&letnikMax=2090&bencin=0&starost2=999&oblika=&ccmMin=0&ccmMax=99999&mocMin=&mocMax=&kmMin=0&kmMax=9999999&kwMin=0&kwMax=999&motortakt=&motorvalji=&lokacija=0&sirina=&dolzina=&dolzinaMIN=&dolzinaMAX=&nosilnostMIN=&nosilnostMAX=&lezisc=&presek=&premer=&col=&vijakov=&EToznaka=&vozilo=&airbag=&barva=&barvaint=&EQ1=1000000000&EQ2=1000000000&EQ3=1000000000&EQ4=100000000&EQ5=1000000000&EQ6=1000000000&EQ7=1000100020&EQ8=101000000&EQ9=1000000000&KAT=1010000000&PIA=&PIAzero=&PIAOut=&PSLO=&akcija=&paketgarancije=0&broker=&prikazkategorije=&kategorija=&ONLvid=&ONLnak=&zaloga=10&arhiv=&presort=&tipsort=&stran=1000",
     "output_type": "error",
     "traceback": [
      "\u001b[0;31m---------------------------------------------------------------------------\u001b[0m",
      "\u001b[0;31mAttributeError\u001b[0m                            Traceback (most recent call last)",
      "File \u001b[0;32m/mnt/Dokumenti/šola/FAKULTETA/1. letnik FMF/Programiranje 1/programiranje_1_projektna_naloga/src/iskalnik.py:401\u001b[0m, in \u001b[0;36mIskalnikAvtoNet._število_strani\u001b[0;34m(self)\u001b[0m\n\u001b[1;32m    396\u001b[0m \u001b[39mtry\u001b[39;00m:\n\u001b[1;32m    397\u001b[0m     i \u001b[39m=\u001b[39m re\u001b[39m.\u001b[39;49msearch(\n\u001b[1;32m    398\u001b[0m         \u001b[39mr\u001b[39;49m\u001b[39m'\u001b[39;49m\u001b[39m<li class=\u001b[39;49m\u001b[39m\"\u001b[39;49m\u001b[39mpage-item current\u001b[39;49m\u001b[39m\"\u001b[39;49m\u001b[39m>[\u001b[39;49m\u001b[39m\\\u001b[39;49m\u001b[39ms\u001b[39;49m\u001b[39m\\\u001b[39;49m\u001b[39mS]+?>(\u001b[39;49m\u001b[39m\\\u001b[39;49m\u001b[39md\u001b[39;49m\u001b[39m{\u001b[39;49m\u001b[39m1,3})</a>\u001b[39;49m\u001b[39m'\u001b[39;49m,\n\u001b[1;32m    399\u001b[0m         html,\n\u001b[1;32m    400\u001b[0m         re\u001b[39m.\u001b[39;49mMULTILINE\n\u001b[0;32m--> 401\u001b[0m     )\u001b[39m.\u001b[39;49mgroup(\u001b[39m1\u001b[39m)\n\u001b[1;32m    402\u001b[0m \u001b[39mexcept\u001b[39;00m \u001b[39mAttributeError\u001b[39;00m:\n",
      "\u001b[0;31mAttributeError\u001b[0m: 'NoneType' object has no attribute 'group'",
      "\nDuring handling of the above exception, another exception occurred:\n",
      "\u001b[0;31mException\u001b[0m                                 Traceback (most recent call last)",
      "\u001b[1;32m/mnt/Dokumenti/šola/FAKULTETA/1. letnik FMF/Programiranje 1/programiranje_1_projektna_naloga/src/zajem.ipynb Cell 2\u001b[0m in \u001b[0;36m<module>\u001b[0;34m\u001b[0m\n\u001b[1;32m      <a href='vscode-notebook-cell:/mnt/Dokumenti/%C5%A1ola/FAKULTETA/1.%20letnik%20FMF/Programiranje%201/programiranje_1_projektna_naloga/src/zajem.ipynb#X20sZmlsZQ%3D%3D?line=7'>8</a>\u001b[0m \u001b[39mprint\u001b[39m(znamka, model)                    \u001b[39m# izpišemo trenutno znamko in model\u001b[39;00m\n\u001b[1;32m      <a href='vscode-notebook-cell:/mnt/Dokumenti/%C5%A1ola/FAKULTETA/1.%20letnik%20FMF/Programiranje%201/programiranje_1_projektna_naloga/src/zajem.ipynb#X20sZmlsZQ%3D%3D?line=8'>9</a>\u001b[0m i\u001b[39m.\u001b[39mnastavi_filter(                       \u001b[39m# nastavimo model kot iskalni filter\u001b[39;00m\n\u001b[1;32m     <a href='vscode-notebook-cell:/mnt/Dokumenti/%C5%A1ola/FAKULTETA/1.%20letnik%20FMF/Programiranje%201/programiranje_1_projektna_naloga/src/zajem.ipynb#X20sZmlsZQ%3D%3D?line=9'>10</a>\u001b[0m     Filter(model\u001b[39m=\u001b[39m(znamka, model))\n\u001b[1;32m     <a href='vscode-notebook-cell:/mnt/Dokumenti/%C5%A1ola/FAKULTETA/1.%20letnik%20FMF/Programiranje%201/programiranje_1_projektna_naloga/src/zajem.ipynb#X20sZmlsZQ%3D%3D?line=10'>11</a>\u001b[0m )\n\u001b[0;32m---> <a href='vscode-notebook-cell:/mnt/Dokumenti/%C5%A1ola/FAKULTETA/1.%20letnik%20FMF/Programiranje%201/programiranje_1_projektna_naloga/src/zajem.ipynb#X20sZmlsZQ%3D%3D?line=11'>12</a>\u001b[0m i\u001b[39m.\u001b[39;49mišči(                                 \u001b[39m# začnemo z iskanjem\u001b[39;49;00m\n\u001b[1;32m     <a href='vscode-notebook-cell:/mnt/Dokumenti/%C5%A1ola/FAKULTETA/1.%20letnik%20FMF/Programiranje%201/programiranje_1_projektna_naloga/src/zajem.ipynb#X20sZmlsZQ%3D%3D?line=12'>13</a>\u001b[0m     podrobno\u001b[39m=\u001b[39;49m\u001b[39mFalse\u001b[39;49;00m,\n\u001b[1;32m     <a href='vscode-notebook-cell:/mnt/Dokumenti/%C5%A1ola/FAKULTETA/1.%20letnik%20FMF/Programiranje%201/programiranje_1_projektna_naloga/src/zajem.ipynb#X20sZmlsZQ%3D%3D?line=13'>14</a>\u001b[0m     zamenjaj_imena\u001b[39m=\u001b[39;49m\u001b[39mFalse\u001b[39;49;00m,\n\u001b[1;32m     <a href='vscode-notebook-cell:/mnt/Dokumenti/%C5%A1ola/FAKULTETA/1.%20letnik%20FMF/Programiranje%201/programiranje_1_projektna_naloga/src/zajem.ipynb#X20sZmlsZQ%3D%3D?line=14'>15</a>\u001b[0m     čakaj_med_requesti\u001b[39m=\u001b[39;49m\u001b[39m2\u001b[39;49m                \u001b[39m# koliko sekund počakamo med zaporednima requestoma\u001b[39;49;00m\n\u001b[1;32m     <a href='vscode-notebook-cell:/mnt/Dokumenti/%C5%A1ola/FAKULTETA/1.%20letnik%20FMF/Programiranje%201/programiranje_1_projektna_naloga/src/zajem.ipynb#X20sZmlsZQ%3D%3D?line=15'>16</a>\u001b[0m )\n\u001b[1;32m     <a href='vscode-notebook-cell:/mnt/Dokumenti/%C5%A1ola/FAKULTETA/1.%20letnik%20FMF/Programiranje%201/programiranje_1_projektna_naloga/src/zajem.ipynb#X20sZmlsZQ%3D%3D?line=16'>17</a>\u001b[0m time\u001b[39m.\u001b[39msleep(\u001b[39m5\u001b[39m)                           \u001b[39m# koliko sekund počakamo med modeli avtomobilov\u001b[39;00m\n\u001b[1;32m     <a href='vscode-notebook-cell:/mnt/Dokumenti/%C5%A1ola/FAKULTETA/1.%20letnik%20FMF/Programiranje%201/programiranje_1_projektna_naloga/src/zajem.ipynb#X20sZmlsZQ%3D%3D?line=17'>18</a>\u001b[0m i\u001b[39m.\u001b[39mtabela(\n\u001b[1;32m     <a href='vscode-notebook-cell:/mnt/Dokumenti/%C5%A1ola/FAKULTETA/1.%20letnik%20FMF/Programiranje%201/programiranje_1_projektna_naloga/src/zajem.ipynb#X20sZmlsZQ%3D%3D?line=18'>19</a>\u001b[0m )\u001b[39m.\u001b[39mto_csv(                               \u001b[39m# sproti prepisujemo datoteko z najdenimi avtomobili\u001b[39;00m\n\u001b[1;32m     <a href='vscode-notebook-cell:/mnt/Dokumenti/%C5%A1ola/FAKULTETA/1.%20letnik%20FMF/Programiranje%201/programiranje_1_projektna_naloga/src/zajem.ipynb#X20sZmlsZQ%3D%3D?line=19'>20</a>\u001b[0m     izhodni_csv                         \u001b[39m# za primer, da nas strežnik blokira\u001b[39;00m\n\u001b[1;32m     <a href='vscode-notebook-cell:/mnt/Dokumenti/%C5%A1ola/FAKULTETA/1.%20letnik%20FMF/Programiranje%201/programiranje_1_projektna_naloga/src/zajem.ipynb#X20sZmlsZQ%3D%3D?line=20'>21</a>\u001b[0m )\n",
      "File \u001b[0;32m/mnt/Dokumenti/šola/FAKULTETA/1. letnik FMF/Programiranje 1/programiranje_1_projektna_naloga/src/iskalnik.py:151\u001b[0m, in \u001b[0;36mIskalnik.išči\u001b[0;34m(self, podrobno, strani, identificiraj_in_obdelaj, zamenjaj_imena, čakaj_med_requesti)\u001b[0m\n\u001b[1;32m    149\u001b[0m \u001b[39mdef\u001b[39;00m \u001b[39mišči\u001b[39m(\u001b[39mself\u001b[39m, podrobno\u001b[39m=\u001b[39m\u001b[39mTrue\u001b[39;00m, strani\u001b[39m=\u001b[39m\u001b[39mNone\u001b[39;00m, identificiraj_in_obdelaj: \u001b[39mbool\u001b[39m\u001b[39m=\u001b[39m\u001b[39mTrue\u001b[39;00m, zamenjaj_imena\u001b[39m=\u001b[39m\u001b[39mFalse\u001b[39;00m, čakaj_med_requesti: \u001b[39mfloat\u001b[39m\u001b[39m=\u001b[39m\u001b[39m0.5\u001b[39m):\n\u001b[1;32m    150\u001b[0m     \u001b[39m\"\"\"Poišče oglase avtomobilov in jih shrani v objekte\"\"\"\u001b[39;00m\n\u001b[0;32m--> 151\u001b[0m     povezave \u001b[39m=\u001b[39m \u001b[39mself\u001b[39;49m\u001b[39m.\u001b[39;49m_urlji_iskalnih_strani()\n\u001b[1;32m    152\u001b[0m     \u001b[39mif\u001b[39;00m \u001b[39mnot\u001b[39;00m povezave: \u001b[39mreturn\u001b[39;00m\n\u001b[1;32m    153\u001b[0m     \u001b[39mif\u001b[39;00m \u001b[39mnot\u001b[39;00m strani \u001b[39mis\u001b[39;00m \u001b[39mNone\u001b[39;00m: povezave \u001b[39m=\u001b[39m povezave[:strani]\n",
      "File \u001b[0;32m/mnt/Dokumenti/šola/FAKULTETA/1. letnik FMF/Programiranje 1/programiranje_1_projektna_naloga/src/iskalnik.py:264\u001b[0m, in \u001b[0;36mIskalnik._urlji_iskalnih_strani\u001b[0;34m(self)\u001b[0m\n\u001b[1;32m    262\u001b[0m \u001b[39mdef\u001b[39;00m \u001b[39m_urlji_iskalnih_strani\u001b[39m(\u001b[39mself\u001b[39m):\n\u001b[1;32m    263\u001b[0m     \u001b[39mreturn\u001b[39;00m [\n\u001b[0;32m--> 264\u001b[0m         \u001b[39mself\u001b[39m\u001b[39m.\u001b[39m_filter\u001b[39m.\u001b[39m_poln_url(s\u001b[39m+\u001b[39m\u001b[39m1\u001b[39m) \u001b[39mfor\u001b[39;00m s \u001b[39min\u001b[39;00m \u001b[39mrange\u001b[39m(\u001b[39mself\u001b[39;49m\u001b[39m.\u001b[39;49m_število_strani())\n\u001b[1;32m    265\u001b[0m     ]\n",
      "File \u001b[0;32m/mnt/Dokumenti/šola/FAKULTETA/1. letnik FMF/Programiranje 1/programiranje_1_projektna_naloga/src/iskalnik.py:407\u001b[0m, in \u001b[0;36mIskalnikAvtoNet._število_strani\u001b[0;34m(self)\u001b[0m\n\u001b[1;32m    405\u001b[0m     \u001b[39melif\u001b[39;00m re\u001b[39m.\u001b[39msearch(\u001b[39m\"\u001b[39m\u001b[39mNi zadetkov\u001b[39m\u001b[39m\"\u001b[39m, html):\n\u001b[1;32m    406\u001b[0m         \u001b[39mreturn\u001b[39;00m \u001b[39m0\u001b[39m\n\u001b[0;32m--> 407\u001b[0m     \u001b[39mraise\u001b[39;00m \u001b[39mException\u001b[39;00m(\u001b[39mf\u001b[39m\u001b[39m\"\u001b[39m\u001b[39mNe najdem števila strani, \u001b[39m\u001b[39m{\u001b[39;00m\u001b[39mself\u001b[39m\u001b[39m.\u001b[39m_filter\u001b[39m.\u001b[39m_poln_url(stran\u001b[39m=\u001b[39m\u001b[39m1000\u001b[39m)\u001b[39m}\u001b[39;00m\u001b[39m\"\u001b[39m)\n\u001b[1;32m    408\u001b[0m \u001b[39mreturn\u001b[39;00m \u001b[39mint\u001b[39m(i)\n",
      "\u001b[0;31mException\u001b[0m: Ne najdem števila strani, https://www.avto.net/Ads/results.asp?znamka=Abarth&model=595&modelID=&tip=&znamka2=&model2=&tip2=&znamka3=&model3=&tip3=&cenaMin=0&cenaMax=999999&letnikMin=0&letnikMax=2090&bencin=0&starost2=999&oblika=&ccmMin=0&ccmMax=99999&mocMin=&mocMax=&kmMin=0&kmMax=9999999&kwMin=0&kwMax=999&motortakt=&motorvalji=&lokacija=0&sirina=&dolzina=&dolzinaMIN=&dolzinaMAX=&nosilnostMIN=&nosilnostMAX=&lezisc=&presek=&premer=&col=&vijakov=&EToznaka=&vozilo=&airbag=&barva=&barvaint=&EQ1=1000000000&EQ2=1000000000&EQ3=1000000000&EQ4=100000000&EQ5=1000000000&EQ6=1000000000&EQ7=1000100020&EQ8=101000000&EQ9=1000000000&KAT=1010000000&PIA=&PIAzero=&PIAOut=&PSLO=&akcija=&paketgarancije=0&broker=&prikazkategorije=&kategorija=&ONLvid=&ONLnak=&zaloga=10&arhiv=&presort=&tipsort=&stran=1000"
     ]
    }
   ],
   "source": [
    "from iskalnik import IskalnikAvtoNet, Filter, modeli_avtonet\n",
    "import time\n",
    "\n",
    "iskalnik = IskalnikAvtoNet()\n",
    "izhodni_csv = \"../podatki/avtonet_avtomobili_1.csv\"\n",
    "\n",
    "for znamka, model in modeli_avtonet:        # Zajemali bomo po modelih\n",
    "    print(znamka, model)                    # izpišemo trenutno znamko in model\n",
    "    iskalnik.nastavi_filter(                # nastavimo model kot iskalni filter\n",
    "        Filter(model=(znamka, model))\n",
    "    )\n",
    "    iskalnik.išči(                          # začnemo z iskanjem\n",
    "        podrobno=False,\n",
    "        zamenjaj_imena=False,\n",
    "        čakaj_med_requesti=2                # koliko sekund počakamo med zaporednima requestoma\n",
    "    )\n",
    "    time.sleep(5)                           # koliko sekund počakamo med modeli avtomobilov\n",
    "    iskalnik.tabela(\n",
    "    ).to_csv(                               # sproti prepisujemo datoteko z najdenimi avtomobili\n",
    "        izhodni_csv                         # za primer, da nas strežnik blokira\n",
    "    )"
   ]
  },
  {
   "cell_type": "markdown",
   "metadata": {},
   "source": [
    "## Zajem podatkov z bolhe"
   ]
  },
  {
   "cell_type": "code",
   "execution_count": null,
   "metadata": {},
   "outputs": [],
   "source": [
    "from iskalnik import IskalnikBolha\n",
    "i = IskalnikBolha()\n",
    "i.išči()"
   ]
  },
  {
   "cell_type": "code",
   "execution_count": null,
   "metadata": {},
   "outputs": [],
   "source": [
    "avti = i.tabela()\n",
    "avti"
   ]
  },
  {
   "cell_type": "code",
   "execution_count": null,
   "metadata": {},
   "outputs": [],
   "source": [
    "avti.to_csv(\"../podatki/bolha_avtomobili_4.csv\")"
   ]
  },
  {
   "cell_type": "code",
   "execution_count": null,
   "metadata": {},
   "outputs": [],
   "source": []
  }
 ],
 "metadata": {
  "kernelspec": {
   "display_name": "Python 3.10.7 ('usr')",
   "language": "python",
   "name": "python3"
  },
  "language_info": {
   "codemirror_mode": {
    "name": "ipython",
    "version": 3
   },
   "file_extension": ".py",
   "mimetype": "text/x-python",
   "name": "python",
   "nbconvert_exporter": "python",
   "pygments_lexer": "ipython3",
   "version": "3.10.7"
  },
  "orig_nbformat": 4,
  "vscode": {
   "interpreter": {
    "hash": "767d51c1340bd893661ea55ea3124f6de3c7a262a8b4abca0554b478b1e2ff90"
   }
  }
 },
 "nbformat": 4,
 "nbformat_minor": 2
}
