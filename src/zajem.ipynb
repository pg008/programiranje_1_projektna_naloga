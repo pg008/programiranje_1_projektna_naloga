{
 "cells": [
  {
   "cell_type": "code",
   "execution_count": 2,
   "metadata": {},
   "outputs": [
    {
     "name": "stdout",
     "output_type": "stream",
     "text": [
      "Listam strani na bolhi:\n",
      "Iščem podatke o avtomobilih.\n",
      "[############################################################] 79/79\n",
      "\n",
      "Identificiram najdene avtomobile.\n",
      "[############################################################] 1180/1180\n",
      "\n"
     ]
    }
   ],
   "source": [
    "from iskalnik import IskalnikBolha\n",
    "i = IskalnikBolha()\n",
    "i.išči()"
   ]
  },
  {
   "cell_type": "code",
   "execution_count": 2,
   "metadata": {},
   "outputs": [
    {
     "ename": "NameError",
     "evalue": "name 'i' is not defined",
     "output_type": "error",
     "traceback": [
      "\u001b[0;31m---------------------------------------------------------------------------\u001b[0m",
      "\u001b[0;31mNameError\u001b[0m                                 Traceback (most recent call last)",
      "\u001b[1;32m/mnt/Dokumenti/šola/FAKULTETA/1. letnik FMF/Programiranje 1/programiranje_1_projektna_naloga/src/zajem.ipynb Cell 2\u001b[0m in \u001b[0;36m<module>\u001b[0;34m\u001b[0m\n\u001b[0;32m----> <a href='vscode-notebook-cell:/mnt/Dokumenti/%C5%A1ola/FAKULTETA/1.%20letnik%20FMF/Programiranje%201/programiranje_1_projektna_naloga/src/zajem.ipynb#W2sZmlsZQ%3D%3D?line=0'>1</a>\u001b[0m avti \u001b[39m=\u001b[39m i\u001b[39m.\u001b[39mtabela()\n\u001b[1;32m      <a href='vscode-notebook-cell:/mnt/Dokumenti/%C5%A1ola/FAKULTETA/1.%20letnik%20FMF/Programiranje%201/programiranje_1_projektna_naloga/src/zajem.ipynb#W2sZmlsZQ%3D%3D?line=1'>2</a>\u001b[0m avti\n",
      "\u001b[0;31mNameError\u001b[0m: name 'i' is not defined"
     ]
    }
   ],
   "source": [
    "avti = i.tabela()\n",
    "avti"
   ]
  },
  {
   "cell_type": "code",
   "execution_count": 17,
   "metadata": {},
   "outputs": [],
   "source": [
    "avti.to_csv(\"../podatki/bolha_avtomobili_4.csv\")"
   ]
  }
 ],
 "metadata": {
  "kernelspec": {
   "display_name": "Python 3.10.7 ('usr')",
   "language": "python",
   "name": "python3"
  },
  "language_info": {
   "codemirror_mode": {
    "name": "ipython",
    "version": 3
   },
   "file_extension": ".py",
   "mimetype": "text/x-python",
   "name": "python",
   "nbconvert_exporter": "python",
   "pygments_lexer": "ipython3",
   "version": "3.10.7"
  },
  "orig_nbformat": 4,
  "vscode": {
   "interpreter": {
    "hash": "767d51c1340bd893661ea55ea3124f6de3c7a262a8b4abca0554b478b1e2ff90"
   }
  }
 },
 "nbformat": 4,
 "nbformat_minor": 2
}
