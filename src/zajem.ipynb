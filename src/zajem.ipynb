{
 "cells": [
  {
   "cell_type": "markdown",
   "metadata": {},
   "source": [
    "## Zajem podatkov s platforme avto.net"
   ]
  },
  {
   "cell_type": "code",
   "execution_count": 6,
   "metadata": {},
   "outputs": [
    {
     "name": "stdout",
     "output_type": "stream",
     "text": [
      "0 Abarth 595\n",
      "Blokada! Nadaljujem?\n"
     ]
    }
   ],
   "source": [
    "from iskalnik import IskalnikAvtoNet, Filter, modeli_avtonet\n",
    "import time\n",
    "\n",
    "iskalnik = IskalnikAvtoNet()\n",
    "izhodni_csv = \"../podatki/avtonet_avtomobili_1.csv\"\n",
    "začetni_indeks = 0\n",
    "\n",
    "for i, (znamka, model) in list(enumerate(\n",
    "    modeli_avtonet\n",
    "))[začetni_indeks:]:                        # Zajemali bomo po modelih\n",
    "    print(i, znamka, model)                 # izpišemo trenutno znamko in model\n",
    "    iskalnik.nastavi_filter(                # nastavimo model kot iskalni filter\n",
    "        Filter(model=(znamka, model))\n",
    "    )\n",
    "    iskalnik.išči(                          # začnemo z iskanjem\n",
    "        podrobno=False,\n",
    "        zamenjaj_imena=False,\n",
    "        čakaj_med_requesti=2                # koliko sekund počakamo med zaporednima requestoma\n",
    "    )\n",
    "    time.sleep(5)                           # koliko sekund počakamo med modeli avtomobilov\n",
    "    iskalnik.tabela(\n",
    "    ).to_csv(                               # sproti prepisujemo datoteko z najdenimi avtomobili\n",
    "        izhodni_csv                         # za primer, da nas strežnik blokira\n",
    "    )"
   ]
  },
  {
   "cell_type": "code",
   "execution_count": 4,
   "metadata": {},
   "outputs": [
    {
     "name": "stdout",
     "output_type": "stream",
     "text": [
      "68\n"
     ]
    }
   ],
   "source": [
    "from iskalnik import modeli_avtonet\n",
    "for i, m in enumerate(modeli_avtonet):\n",
    "    if m[1] == \"A3\":\n",
    "        print(i)"
   ]
  },
  {
   "cell_type": "markdown",
   "metadata": {},
   "source": [
    "## Zajem podatkov z bolhe"
   ]
  },
  {
   "cell_type": "code",
   "execution_count": null,
   "metadata": {},
   "outputs": [],
   "source": [
    "from iskalnik import IskalnikBolha\n",
    "i = IskalnikBolha()\n",
    "i.išči()"
   ]
  },
  {
   "cell_type": "code",
   "execution_count": null,
   "metadata": {},
   "outputs": [],
   "source": [
    "avti = i.tabela()\n",
    "avti"
   ]
  },
  {
   "cell_type": "code",
   "execution_count": null,
   "metadata": {},
   "outputs": [],
   "source": [
    "avti.to_csv(\"../podatki/bolha_avtomobili_4.csv\")"
   ]
  },
  {
   "cell_type": "code",
   "execution_count": null,
   "metadata": {},
   "outputs": [],
   "source": []
  }
 ],
 "metadata": {
  "kernelspec": {
   "display_name": "Python 3.10.7 ('usr')",
   "language": "python",
   "name": "python3"
  },
  "language_info": {
   "codemirror_mode": {
    "name": "ipython",
    "version": 3
   },
   "file_extension": ".py",
   "mimetype": "text/x-python",
   "name": "python",
   "nbconvert_exporter": "python",
   "pygments_lexer": "ipython3",
   "version": "3.10.7"
  },
  "orig_nbformat": 4,
  "vscode": {
   "interpreter": {
    "hash": "767d51c1340bd893661ea55ea3124f6de3c7a262a8b4abca0554b478b1e2ff90"
   }
  }
 },
 "nbformat": 4,
 "nbformat_minor": 2
}
