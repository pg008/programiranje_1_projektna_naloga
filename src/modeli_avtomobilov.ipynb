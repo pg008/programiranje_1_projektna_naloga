{
 "cells": [
  {
   "cell_type": "code",
   "execution_count": 1,
   "metadata": {},
   "outputs": [],
   "source": [
    "from konstante import BAZA_MODELOV, URL_MODELI_AVTOMOBILOV"
   ]
  },
  {
   "cell_type": "markdown",
   "metadata": {},
   "source": [
    "# Shranjevanje v bazo"
   ]
  },
  {
   "cell_type": "code",
   "execution_count": 2,
   "metadata": {},
   "outputs": [],
   "source": [
    "import sqlite3\n",
    "p = sqlite3.connect(BAZA_MODELOV)"
   ]
  },
  {
   "cell_type": "code",
   "execution_count": 3,
   "metadata": {},
   "outputs": [],
   "source": [
    "def shrani_znamko_v_bazo(ime_znamke: str, povezava: str):\n",
    "    c = p.cursor()\n",
    "    c.execute(f\"\"\"INSERT INTO znamke(ime, povezava) VALUES(\"{ime_znamke}\", \"{povezava}\")\"\"\")\n",
    "    p.commit()\n",
    "    c.execute(\"select last_insert_rowid();\")\n",
    "    return c.fetchall()[0][0]\n",
    "\n",
    "def shrani_model_v_bazo(ime: str, id_znamke, tip, zacetno_leto, motorji, povezava):\n",
    "    c = p.cursor()\n",
    "    ime = ime.replace('\"', '\"\"')\n",
    "    c.execute(\"INSERT INTO \"\n",
    "            \"modeli(ime, znamka_id, tip, zacetno_leto, motorji, povezava)\"\n",
    "            f\" VALUES(\\\"{ime}\\\", {id_znamke}, \\\"{tip}\\\", {zacetno_leto}, \\\"{motorji}\\\", '{povezava}')\")\n",
    "    p.commit()\n",
    "    c.execute(\"select last_insert_rowid();\")\n",
    "    return c.fetchall()[0][0]\n",
    "\n",
    "def shrani_razlicico_v_bazo(\n",
    "    ime, id_modela, zacetno_leto, koncno_leto, vrsta_motorja, opis, povezava\n",
    "):\n",
    "    if koncno_leto == \"Present\":\n",
    "        koncno_leto = 2022\n",
    "    ime = ime.replace('\"', '\"\"')\n",
    "    c = p.cursor()\n",
    "    c.execute(\"INSERT INTO \"\n",
    "            \"razlicice(ime, model_id, zacetno_leto, koncno_leto, vrsta_motorja, opis, povezava)\"\n",
    "            f\" VALUES(\\\"{ime}\\\", {id_modela}, {zacetno_leto}, {koncno_leto}, '{vrsta_motorja}', \\\"{opis}\\\", '{povezava}')\")\n",
    "    p.commit()\n",
    "    c.execute(\"select last_insert_rowid();\")\n",
    "    return c.fetchall()[0][0]"
   ]
  },
  {
   "cell_type": "code",
   "execution_count": 4,
   "metadata": {},
   "outputs": [],
   "source": [
    "def odstrani_znamko_iz_baze(id: int):\n",
    "    c = p.cursor()\n",
    "    c.execute(f\"DELETE FROM razlicice WHERE razlicice.model_id IN (SELECT modeli.id FROM modeli WHERE modeli.znamka_id IN (SELECT znamke.id FROM znamke WHERE znamke.id={id}));\")\n",
    "    c.execute(f\"DELETE FROM modeli WHERE modeli.znamka_id IN (SELECT znamke.id FROM znamke WHERE znamke.id={id});\")\n",
    "    c.execute(f\"DELETE FROM znamke WHERE znamke.id={id};\")\n",
    "    p.commit()\n",
    "\n",
    "def ponastavi_bazo():\n",
    "    ja = input(\"ali res želiš?(DA)\")\n",
    "    if ja == \"DA\" or ja == \"da\":\n",
    "        c = p.cursor()\n",
    "        c.execute(\"DELETE FROM znamke;\")\n",
    "        c.execute(\"DELETE FROM modeli;\")\n",
    "        c.execute(\"DELETE FROM razlicice;\")\n",
    "        c.execute(\"delete from sqlite_sequence where name='razlicice';\")\n",
    "        c.execute(\"delete from sqlite_sequence where name='modeli';\")\n",
    "        c.execute(\"delete from sqlite_sequence where name='znamke';\")\n",
    "        p.commit()"
   ]
  },
  {
   "cell_type": "code",
   "execution_count": 5,
   "metadata": {},
   "outputs": [],
   "source": [
    "#ponastavi_bazo()"
   ]
  },
  {
   "cell_type": "code",
   "execution_count": 6,
   "metadata": {},
   "outputs": [],
   "source": [
    "#odstrani_znamko_iz_baze(58)"
   ]
  },
  {
   "cell_type": "markdown",
   "metadata": {},
   "source": [
    "# Iskanje"
   ]
  },
  {
   "cell_type": "code",
   "execution_count": 7,
   "metadata": {},
   "outputs": [],
   "source": [
    "from selenium import webdriver\n",
    "from selenium.webdriver.firefox.service import Service\n",
    "from webdriver_manager.firefox import GeckoDriverManager\n",
    "from selenium.webdriver.common.by import By\n",
    "from selenium.webdriver.common.keys import Keys\n",
    "import re\n",
    "import time\n"
   ]
  },
  {
   "cell_type": "code",
   "execution_count": 8,
   "metadata": {},
   "outputs": [],
   "source": [
    "def zavihek(f):\n",
    "    def f1(*args, **kwargs):\n",
    "        star_zavihek = args[0].current_window_handle\n",
    "        args[0].switch_to.new_window('tab')\n",
    "        args[0].get(args[1])\n",
    "        r = f(*args, **kwargs)\n",
    "        args[0].close()\n",
    "        args[0].switch_to.window(star_zavihek)\n",
    "        return r\n",
    "    return f1\n",
    "\n",
    "\n",
    "@zavihek\n",
    "def poisci_razlicice(b, p: str):\n",
    "    r = []\n",
    "    for razlicica in b.find_elements(By.CSS_SELECTOR, \"div[class*='container carmodel clearfix']\"):\n",
    "        ime_razlicice = razlicica.find_element(By.CSS_SELECTOR, \"span[class*='col-red']\").text\n",
    "        try:\n",
    "            obdobje = razlicica.find_element(By.CSS_SELECTOR, \"p[class*='years']\").text\n",
    "        except:\n",
    "            obdobje = \"\"\n",
    "        try:\n",
    "            zleto, kleto = obdobje.split(\" - \")\n",
    "        except:\n",
    "            zleto = obdobje\n",
    "            kleto = obdobje\n",
    "        \n",
    "        if kleto == \"Present\": kleto = 2022\n",
    "\n",
    "        for motor in razlicica.find_elements(By.CSS_SELECTOR, \"div[class*='col12width tocol1 mot clearfix']\"):\n",
    "            vrsta_motorja = razlicica.find_element(By.CSS_SELECTOR, \"strong[class*='upcase']\").text[:-1]\n",
    "\n",
    "            for podrazlicica in motor.find_elements(By.CSS_SELECTOR, \"p[class*='engitm']\"):\n",
    "                povezava = podrazlicica.find_element(By.CSS_SELECTOR, \"a[class*='engurl semibold']\").get_attribute(\"href\")\n",
    "                opis = podrazlicica.find_element(By.CSS_SELECTOR, \"span[class*='col-green2']\").text\n",
    "                r.append({\n",
    "                    \"ime\": ime_razlicice,\n",
    "                    \"zacetno_leto\": zleto,\n",
    "                    \"koncno_leto\": kleto,\n",
    "                    \"motor\": vrsta_motorja,\n",
    "                    \"opis\": opis,\n",
    "                    \"povezava\": povezava,\n",
    "                })\n",
    "    return r\n",
    "\n",
    "@zavihek\n",
    "def podatki_o_modelu(b, p: str):\n",
    "    podatki_o_modelu = b.find_element(\n",
    "        By.CSS_SELECTOR,\n",
    "        \"div[class*='padsides_20i newstext mgbot_20 fsz14']\"\n",
    "    ).text\n",
    "    pod = re.search(\n",
    "        r\"(?:Generations:\\s(?P<generacij>\\d{1,2})$)?\"\n",
    "        r\"(?:\\n?First produc.*?ar:\\s(?P<prvo_leto>\\d{4})$)?\"\n",
    "        r\"(?:\\n?Engines:\\s(?P<motorji>[^\\n]*?)$)?\"\n",
    "        r\"(?:\\n?Body style:\\s(?P<tip>.*?)$)?\",\n",
    "        podatki_o_modelu,\n",
    "        flags=re.MULTILINE\n",
    "    )\n",
    "    return pod.groupdict()\n",
    "\n",
    "@zavihek\n",
    "def poisci_modele(b, p: str):\n",
    "    modeli = []\n",
    "    for m in b.find_elements(By.CSS_SELECTOR, \"div[class*='carmod clearfix']\"):\n",
    "        ime = m.find_element(By.TAG_NAME, \"h4\").text\n",
    "        povezava = m.find_element(By.TAG_NAME, \"a\").get_attribute(\"href\")\n",
    "        podatki = podatki_o_modelu(b, povezava)\n",
    "        modeli.append({\n",
    "            \"ime\": ime,\n",
    "            \"zacetno_leto\": podatki[\"prvo_leto\"],\n",
    "            \"tip\": podatki[\"tip\"],\n",
    "            \"motorji\": podatki[\"motorji\"],\n",
    "            \"povezava\": povezava,\n",
    "        })\n",
    "    return modeli\n",
    "\n",
    "@zavihek\n",
    "def poisci_znamke(b, p: str):\n",
    "    znamke = []\n",
    "    for z in b.find_elements(\n",
    "        By.CSS_SELECTOR,\n",
    "        \"div[itemtype='https://schema.org/Brand']\"\n",
    "    ):\n",
    "        ime = z.find_element(By.TAG_NAME, \"h5\").text\n",
    "        povezava = z.find_element(By.TAG_NAME, \"a\").get_attribute(\"href\")\n",
    "        znamke.append({\"ime\": ime, \"povezava\": povezava})\n",
    "    return znamke"
   ]
  },
  {
   "cell_type": "markdown",
   "metadata": {},
   "source": [
    "## Testi funkcij"
   ]
  },
  {
   "cell_type": "code",
   "execution_count": 9,
   "metadata": {},
   "outputs": [],
   "source": [
    "# poisci_razlicice(\n",
    "#     brskalnik,\n",
    "#     \"https://www.autoevolution.com/bmw/x1/\"\n",
    "# )"
   ]
  },
  {
   "cell_type": "code",
   "execution_count": 10,
   "metadata": {},
   "outputs": [],
   "source": [
    "# poisci_modele(\n",
    "#     brskalnik,\n",
    "#     \"https://www.autoevolution.com/ac/\"\n",
    "# )"
   ]
  },
  {
   "cell_type": "code",
   "execution_count": 11,
   "metadata": {},
   "outputs": [],
   "source": [
    "# poisci_znamke(\n",
    "#     brskalnik,\n",
    "#     \"https://www.autoevolution.com/cars/\"\n",
    "# )"
   ]
  },
  {
   "cell_type": "markdown",
   "metadata": {},
   "source": [
    "# Skupno"
   ]
  },
  {
   "cell_type": "code",
   "execution_count": 12,
   "metadata": {},
   "outputs": [
    {
     "name": "stderr",
     "output_type": "stream",
     "text": [
      "[WDM] - Downloading: 19.0kB [00:00, 4.87MB/s]                   \n"
     ]
    }
   ],
   "source": [
    "b = webdriver.Firefox(service=Service(GeckoDriverManager().install()))\n",
    "b.implicitly_wait(5)\n",
    "b.get(URL_MODELI_AVTOMOBILOV)\n",
    "time.sleep(3)\n",
    "# OK piškotki\n",
    "b.find_element(by=By.XPATH, value='/html/body/div[1]/div/div/div/div[2]/div/button[2]').click()\n"
   ]
  },
  {
   "cell_type": "code",
   "execution_count": 19,
   "metadata": {},
   "outputs": [],
   "source": [
    "for znamka in poisci_znamke(b, URL_MODELI_AVTOMOBILOV)[120:]:\n",
    "    id_znamke = shrani_znamko_v_bazo(znamka[\"ime\"], znamka[\"povezava\"])\n",
    "    for model in poisci_modele(b, znamka[\"povezava\"]):\n",
    "        id_modela = shrani_model_v_bazo(\n",
    "            model[\"ime\"],\n",
    "            id_znamke,\n",
    "            model[\"tip\"],\n",
    "            model[\"zacetno_leto\"],\n",
    "            model[\"motorji\"],\n",
    "            model[\"povezava\"]\n",
    "        )\n",
    "        for razlicica in poisci_razlicice(b, model[\"povezava\"]):\n",
    "            id_razlicice = shrani_razlicico_v_bazo(\n",
    "                razlicica[\"ime\"],\n",
    "                id_modela,\n",
    "                razlicica[\"zacetno_leto\"],\n",
    "                razlicica[\"koncno_leto\"],\n",
    "                razlicica[\"motor\"],\n",
    "                razlicica[\"opis\"],\n",
    "                razlicica[\"povezava\"],\n",
    "            )"
   ]
  }
 ],
 "metadata": {
  "kernelspec": {
   "display_name": "Python 3.10.7 ('usr')",
   "language": "python",
   "name": "python3"
  },
  "language_info": {
   "codemirror_mode": {
    "name": "ipython",
    "version": 3
   },
   "file_extension": ".py",
   "mimetype": "text/x-python",
   "name": "python",
   "nbconvert_exporter": "python",
   "pygments_lexer": "ipython3",
   "version": "3.10.7"
  },
  "orig_nbformat": 4,
  "vscode": {
   "interpreter": {
    "hash": "31f2aee4e71d21fbe5cf8b01ff0e069b9275f58929596ceb00d14d90e3e16cd6"
   }
  }
 },
 "nbformat": 4,
 "nbformat_minor": 2
}
