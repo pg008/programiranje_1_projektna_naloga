{
 "cells": [
  {
   "cell_type": "markdown",
   "metadata": {},
   "source": [
    "## Analiza rabljenih avtomobilov"
   ]
  },
  {
   "cell_type": "code",
   "execution_count": 95,
   "metadata": {},
   "outputs": [
    {
     "data": {
      "text/html": [
       "<div>\n",
       "<style scoped>\n",
       "    .dataframe tbody tr th:only-of-type {\n",
       "        vertical-align: middle;\n",
       "    }\n",
       "\n",
       "    .dataframe tbody tr th {\n",
       "        vertical-align: top;\n",
       "    }\n",
       "\n",
       "    .dataframe thead th {\n",
       "        text-align: right;\n",
       "    }\n",
       "</style>\n",
       "<table border=\"1\" class=\"dataframe\">\n",
       "  <thead>\n",
       "    <tr style=\"text-align: right;\">\n",
       "      <th></th>\n",
       "      <th>Unnamed: 0</th>\n",
       "      <th>ime_znamke</th>\n",
       "      <th>ime_modela</th>\n",
       "      <th>ime_razlicice</th>\n",
       "      <th>tip_modela</th>\n",
       "      <th>menjalnik</th>\n",
       "      <th>vrsta_motorja</th>\n",
       "      <th>stevilo_vrat</th>\n",
       "      <th>stevilo_prestav</th>\n",
       "      <th>konjske_moci</th>\n",
       "      <th>kilovati</th>\n",
       "      <th>prostornina_motorja</th>\n",
       "      <th>povezava</th>\n",
       "      <th>naslov_oglasa</th>\n",
       "      <th>leto_izdelave</th>\n",
       "      <th>stevilo_kilometrov</th>\n",
       "      <th>cena</th>\n",
       "      <th>platforma</th>\n",
       "      <th>id_razlicice</th>\n",
       "      <th>id_modela</th>\n",
       "    </tr>\n",
       "  </thead>\n",
       "  <tbody>\n",
       "    <tr>\n",
       "      <th>4966</th>\n",
       "      <td>4966</td>\n",
       "      <td>Citroen</td>\n",
       "      <td>C4</td>\n",
       "      <td>C4 Sedan</td>\n",
       "      <td>NaN</td>\n",
       "      <td>ROČNI</td>\n",
       "      <td>DIEZEL</td>\n",
       "      <td>NaN</td>\n",
       "      <td>5.0</td>\n",
       "      <td>114.0</td>\n",
       "      <td>84.0</td>\n",
       "      <td>1.560</td>\n",
       "      <td>https://www.avto.net/Ads/details.asp?id=177572...</td>\n",
       "      <td>Citroen C4 Exclusive e-HDi 115 1 lastnik SLO v...</td>\n",
       "      <td>2013</td>\n",
       "      <td>140800</td>\n",
       "      <td>7950.0</td>\n",
       "      <td>avtonet</td>\n",
       "      <td>6636.0</td>\n",
       "      <td>581.0</td>\n",
       "    </tr>\n",
       "    <tr>\n",
       "      <th>5458</th>\n",
       "      <td>5458</td>\n",
       "      <td>Citroen</td>\n",
       "      <td>DS5</td>\n",
       "      <td>DS5</td>\n",
       "      <td>HATCHBACK</td>\n",
       "      <td>AVTOMATSKI</td>\n",
       "      <td>DIEZEL</td>\n",
       "      <td>NaN</td>\n",
       "      <td>6.0</td>\n",
       "      <td>163.0</td>\n",
       "      <td>120.0</td>\n",
       "      <td>1.997</td>\n",
       "      <td>https://www.avto.net/Ads/details.asp?id=175728...</td>\n",
       "      <td>Citroen DS5 2.0HDI HYBRID-4X4-SPORT-PANORAMA-U...</td>\n",
       "      <td>2017</td>\n",
       "      <td>144453</td>\n",
       "      <td>16990.0</td>\n",
       "      <td>avtonet</td>\n",
       "      <td>6420.0</td>\n",
       "      <td>559.0</td>\n",
       "    </tr>\n",
       "    <tr>\n",
       "      <th>7809</th>\n",
       "      <td>7809</td>\n",
       "      <td>Hyundai</td>\n",
       "      <td>i30 Wagon</td>\n",
       "      <td>i30</td>\n",
       "      <td>HATCHBACK</td>\n",
       "      <td>ROČNI</td>\n",
       "      <td>BENCIN</td>\n",
       "      <td>NaN</td>\n",
       "      <td>6.0</td>\n",
       "      <td>120.0</td>\n",
       "      <td>88.0</td>\n",
       "      <td>0.998</td>\n",
       "      <td>https://www.avto.net/Ads/details.asp?id=173181...</td>\n",
       "      <td>Hyundai i30 Wagon 1.0 T-GDI PREMIUM</td>\n",
       "      <td>2019</td>\n",
       "      <td>50000</td>\n",
       "      <td>16980.0</td>\n",
       "      <td>avtonet</td>\n",
       "      <td>11453.0</td>\n",
       "      <td>1175.0</td>\n",
       "    </tr>\n",
       "    <tr>\n",
       "      <th>5350</th>\n",
       "      <td>5350</td>\n",
       "      <td>Volkswagen</td>\n",
       "      <td>CrossTouran</td>\n",
       "      <td>CrossTouran</td>\n",
       "      <td>KOMBI</td>\n",
       "      <td>ROČNI</td>\n",
       "      <td>DIEZEL</td>\n",
       "      <td>NaN</td>\n",
       "      <td>6.0</td>\n",
       "      <td>140.0</td>\n",
       "      <td>103.0</td>\n",
       "      <td>1.968</td>\n",
       "      <td>https://www.avto.net/Ads/details.asp?id=176235...</td>\n",
       "      <td>Volkswagen CrossTouran</td>\n",
       "      <td>2009</td>\n",
       "      <td>314000</td>\n",
       "      <td>5400.0</td>\n",
       "      <td>avtonet</td>\n",
       "      <td>27760.0</td>\n",
       "      <td>2651.0</td>\n",
       "    </tr>\n",
       "    <tr>\n",
       "      <th>2072</th>\n",
       "      <td>2072</td>\n",
       "      <td>Volkswagen</td>\n",
       "      <td>Golf</td>\n",
       "      <td>Golf R</td>\n",
       "      <td>HATCHBACK</td>\n",
       "      <td>AVTOMATSKI</td>\n",
       "      <td>BENCIN</td>\n",
       "      <td>NaN</td>\n",
       "      <td>7.0</td>\n",
       "      <td>200.0</td>\n",
       "      <td>147.0</td>\n",
       "      <td>1.984</td>\n",
       "      <td>https://www.avto.net/Ads/details.asp?id=177188...</td>\n",
       "      <td>Volkswagen Golf 2.0 TSI GTI</td>\n",
       "      <td>2011</td>\n",
       "      <td>247000</td>\n",
       "      <td>13500.0</td>\n",
       "      <td>avtonet</td>\n",
       "      <td>26762.0</td>\n",
       "      <td>2622.0</td>\n",
       "    </tr>\n",
       "    <tr>\n",
       "      <th>568</th>\n",
       "      <td>568</td>\n",
       "      <td>Peugeot</td>\n",
       "      <td>3008</td>\n",
       "      <td>3008</td>\n",
       "      <td>KOMBI</td>\n",
       "      <td>ROČNI</td>\n",
       "      <td>BENCIN</td>\n",
       "      <td>NaN</td>\n",
       "      <td>6.0</td>\n",
       "      <td>131.0</td>\n",
       "      <td>96.0</td>\n",
       "      <td>1.199</td>\n",
       "      <td>https://www.avto.net/Ads/details.asp?id=177574...</td>\n",
       "      <td>Peugeot 3008 1.2 PureTech 130 Allure 25.000KM ...</td>\n",
       "      <td>2018</td>\n",
       "      <td>25000</td>\n",
       "      <td>20990.0</td>\n",
       "      <td>avtonet</td>\n",
       "      <td>20231.0</td>\n",
       "      <td>1987.0</td>\n",
       "    </tr>\n",
       "    <tr>\n",
       "      <th>634</th>\n",
       "      <td>634</td>\n",
       "      <td>Audi</td>\n",
       "      <td>A4 Avant</td>\n",
       "      <td>A4 Avant</td>\n",
       "      <td>KARAVAN</td>\n",
       "      <td>ROČNI</td>\n",
       "      <td>DIEZEL</td>\n",
       "      <td>NaN</td>\n",
       "      <td>6.0</td>\n",
       "      <td>136.0</td>\n",
       "      <td>100.0</td>\n",
       "      <td>1.968</td>\n",
       "      <td>https://www.avto.net/Ads/details.asp?id=177613...</td>\n",
       "      <td>Audi A4 Avant 2.0 TDI S-LINE AVTO.KLIMA-USNJEN...</td>\n",
       "      <td>2010</td>\n",
       "      <td>378013</td>\n",
       "      <td>6590.0</td>\n",
       "      <td>avtonet</td>\n",
       "      <td>964.0</td>\n",
       "      <td>145.0</td>\n",
       "    </tr>\n",
       "    <tr>\n",
       "      <th>68</th>\n",
       "      <td>68</td>\n",
       "      <td>Audi</td>\n",
       "      <td>A3</td>\n",
       "      <td>A3 Sedan</td>\n",
       "      <td>NaN</td>\n",
       "      <td>ROČNI</td>\n",
       "      <td>DIEZEL</td>\n",
       "      <td>NaN</td>\n",
       "      <td>6.0</td>\n",
       "      <td>116.0</td>\n",
       "      <td>85.0</td>\n",
       "      <td>1.598</td>\n",
       "      <td>https://www.avto.net/Ads/details.asp?id=177595...</td>\n",
       "      <td>Audi A3 1. LAST.-NAVI-BELA PERLA- LED-PDC</td>\n",
       "      <td>2017</td>\n",
       "      <td>139400</td>\n",
       "      <td>16495.0</td>\n",
       "      <td>avtonet</td>\n",
       "      <td>678.0</td>\n",
       "      <td>134.0</td>\n",
       "    </tr>\n",
       "    <tr>\n",
       "      <th>2376</th>\n",
       "      <td>2376</td>\n",
       "      <td>Audi</td>\n",
       "      <td>A8</td>\n",
       "      <td>A8 L</td>\n",
       "      <td>NaN</td>\n",
       "      <td>AVTOMATSKI</td>\n",
       "      <td>DIEZEL</td>\n",
       "      <td>NaN</td>\n",
       "      <td>8.0</td>\n",
       "      <td>258.0</td>\n",
       "      <td>190.0</td>\n",
       "      <td>2.967</td>\n",
       "      <td>https://www.avto.net/Ads/details.asp?id=170285...</td>\n",
       "      <td>Audi A8 3.0 TDI quattro.MATRIX.kamera.masaža..</td>\n",
       "      <td>2014</td>\n",
       "      <td>177000</td>\n",
       "      <td>33888.0</td>\n",
       "      <td>avtonet</td>\n",
       "      <td>1940.0</td>\n",
       "      <td>169.0</td>\n",
       "    </tr>\n",
       "  </tbody>\n",
       "</table>\n",
       "</div>"
      ],
      "text/plain": [
       "      Unnamed: 0  ime_znamke   ime_modela ime_razlicice tip_modela  \\\n",
       "4966        4966     Citroen           C4      C4 Sedan        NaN   \n",
       "5458        5458     Citroen          DS5           DS5  HATCHBACK   \n",
       "7809        7809     Hyundai    i30 Wagon           i30  HATCHBACK   \n",
       "5350        5350  Volkswagen  CrossTouran   CrossTouran      KOMBI   \n",
       "2072        2072  Volkswagen         Golf        Golf R  HATCHBACK   \n",
       "568          568     Peugeot         3008          3008      KOMBI   \n",
       "634          634        Audi     A4 Avant      A4 Avant    KARAVAN   \n",
       "68            68        Audi           A3      A3 Sedan        NaN   \n",
       "2376        2376        Audi           A8          A8 L        NaN   \n",
       "\n",
       "       menjalnik vrsta_motorja  stevilo_vrat  stevilo_prestav  konjske_moci  \\\n",
       "4966       ROČNI        DIEZEL           NaN              5.0         114.0   \n",
       "5458  AVTOMATSKI        DIEZEL           NaN              6.0         163.0   \n",
       "7809       ROČNI        BENCIN           NaN              6.0         120.0   \n",
       "5350       ROČNI        DIEZEL           NaN              6.0         140.0   \n",
       "2072  AVTOMATSKI        BENCIN           NaN              7.0         200.0   \n",
       "568        ROČNI        BENCIN           NaN              6.0         131.0   \n",
       "634        ROČNI        DIEZEL           NaN              6.0         136.0   \n",
       "68         ROČNI        DIEZEL           NaN              6.0         116.0   \n",
       "2376  AVTOMATSKI        DIEZEL           NaN              8.0         258.0   \n",
       "\n",
       "      kilovati  prostornina_motorja  \\\n",
       "4966      84.0                1.560   \n",
       "5458     120.0                1.997   \n",
       "7809      88.0                0.998   \n",
       "5350     103.0                1.968   \n",
       "2072     147.0                1.984   \n",
       "568       96.0                1.199   \n",
       "634      100.0                1.968   \n",
       "68        85.0                1.598   \n",
       "2376     190.0                2.967   \n",
       "\n",
       "                                               povezava  \\\n",
       "4966  https://www.avto.net/Ads/details.asp?id=177572...   \n",
       "5458  https://www.avto.net/Ads/details.asp?id=175728...   \n",
       "7809  https://www.avto.net/Ads/details.asp?id=173181...   \n",
       "5350  https://www.avto.net/Ads/details.asp?id=176235...   \n",
       "2072  https://www.avto.net/Ads/details.asp?id=177188...   \n",
       "568   https://www.avto.net/Ads/details.asp?id=177574...   \n",
       "634   https://www.avto.net/Ads/details.asp?id=177613...   \n",
       "68    https://www.avto.net/Ads/details.asp?id=177595...   \n",
       "2376  https://www.avto.net/Ads/details.asp?id=170285...   \n",
       "\n",
       "                                          naslov_oglasa  leto_izdelave  \\\n",
       "4966  Citroen C4 Exclusive e-HDi 115 1 lastnik SLO v...           2013   \n",
       "5458  Citroen DS5 2.0HDI HYBRID-4X4-SPORT-PANORAMA-U...           2017   \n",
       "7809                Hyundai i30 Wagon 1.0 T-GDI PREMIUM           2019   \n",
       "5350                            Volkswagen CrossTouran            2009   \n",
       "2072                       Volkswagen Golf 2.0 TSI GTI            2011   \n",
       "568   Peugeot 3008 1.2 PureTech 130 Allure 25.000KM ...           2018   \n",
       "634   Audi A4 Avant 2.0 TDI S-LINE AVTO.KLIMA-USNJEN...           2010   \n",
       "68            Audi A3 1. LAST.-NAVI-BELA PERLA- LED-PDC           2017   \n",
       "2376     Audi A8 3.0 TDI quattro.MATRIX.kamera.masaža..           2014   \n",
       "\n",
       "      stevilo_kilometrov     cena platforma  id_razlicice  id_modela  \n",
       "4966              140800   7950.0   avtonet        6636.0      581.0  \n",
       "5458              144453  16990.0   avtonet        6420.0      559.0  \n",
       "7809               50000  16980.0   avtonet       11453.0     1175.0  \n",
       "5350              314000   5400.0   avtonet       27760.0     2651.0  \n",
       "2072              247000  13500.0   avtonet       26762.0     2622.0  \n",
       "568                25000  20990.0   avtonet       20231.0     1987.0  \n",
       "634               378013   6590.0   avtonet         964.0      145.0  \n",
       "68                139400  16495.0   avtonet         678.0      134.0  \n",
       "2376              177000  33888.0   avtonet        1940.0      169.0  "
      ]
     },
     "execution_count": 95,
     "metadata": {},
     "output_type": "execute_result"
    }
   ],
   "source": [
    "import pandas as pd\n",
    "\n",
    "an1 = pd.read_csv(\"../podatki/avtonet_avtomobili_1.csv\")\n",
    "an2 = pd.read_csv(\"../podatki/avtonet_avtomobili_2.csv\")\n",
    "an3 = pd.read_csv(\"../podatki/avtonet_avtomobili_1000.csv\")\n",
    "an4 = pd.read_csv(\"../podatki/avtonet_avtomobili_1012.csv\")\n",
    "an5 = pd.read_csv(\"../podatki/avtonet_avtomobili_1052.csv\")\n",
    "an6 = pd.read_csv(\"../podatki/avtonet_avtomobili_1090.csv\")\n",
    "an7 = pd.read_csv(\"../podatki/avtonet_avtomobili_1124.csv\")\n",
    "an8 = pd.read_csv(\"../podatki/avtonet_avtomobili_1277.csv\")\n",
    "\n",
    "\n",
    "avti = pd.concat([an1, an2, an3, an4, an5, an6, an7, an8])\n",
    "avti.sample(frac=0.0005)"
   ]
  },
  {
   "cell_type": "markdown",
   "metadata": {},
   "source": [
    "### Slani avtomobili"
   ]
  },
  {
   "cell_type": "code",
   "execution_count": 101,
   "metadata": {},
   "outputs": [
    {
     "data": {
      "text/html": [
       "<div>\n",
       "<style scoped>\n",
       "    .dataframe tbody tr th:only-of-type {\n",
       "        vertical-align: middle;\n",
       "    }\n",
       "\n",
       "    .dataframe tbody tr th {\n",
       "        vertical-align: top;\n",
       "    }\n",
       "\n",
       "    .dataframe thead th {\n",
       "        text-align: right;\n",
       "    }\n",
       "</style>\n",
       "<table border=\"1\" class=\"dataframe\">\n",
       "  <thead>\n",
       "    <tr style=\"text-align: right;\">\n",
       "      <th></th>\n",
       "      <th>Unnamed: 0</th>\n",
       "      <th>ime_znamke</th>\n",
       "      <th>ime_modela</th>\n",
       "      <th>ime_razlicice</th>\n",
       "      <th>tip_modela</th>\n",
       "      <th>menjalnik</th>\n",
       "      <th>vrsta_motorja</th>\n",
       "      <th>stevilo_vrat</th>\n",
       "      <th>stevilo_prestav</th>\n",
       "      <th>konjske_moci</th>\n",
       "      <th>kilovati</th>\n",
       "      <th>prostornina_motorja</th>\n",
       "      <th>povezava</th>\n",
       "      <th>naslov_oglasa</th>\n",
       "      <th>leto_izdelave</th>\n",
       "      <th>stevilo_kilometrov</th>\n",
       "      <th>cena</th>\n",
       "      <th>platforma</th>\n",
       "      <th>id_razlicice</th>\n",
       "      <th>id_modela</th>\n",
       "    </tr>\n",
       "  </thead>\n",
       "  <tbody>\n",
       "    <tr>\n",
       "      <th>649</th>\n",
       "      <td>649</td>\n",
       "      <td>Opel</td>\n",
       "      <td>Crossland</td>\n",
       "      <td>Crossland</td>\n",
       "      <td>SUV</td>\n",
       "      <td>ROČNI</td>\n",
       "      <td>BENCIN</td>\n",
       "      <td>NaN</td>\n",
       "      <td>5.0</td>\n",
       "      <td>110.0</td>\n",
       "      <td>81.0</td>\n",
       "      <td>1.199</td>\n",
       "      <td>https://www.avto.net/Ads/details.asp?id=177754...</td>\n",
       "      <td>Opel Crossland 1.2 TURBO 81KW ELEGANCE</td>\n",
       "      <td>2022</td>\n",
       "      <td>1050</td>\n",
       "      <td>23100.0</td>\n",
       "      <td>avtonet</td>\n",
       "      <td>19491.0</td>\n",
       "      <td>1930.0</td>\n",
       "    </tr>\n",
       "    <tr>\n",
       "      <th>650</th>\n",
       "      <td>650</td>\n",
       "      <td>Opel</td>\n",
       "      <td>Crossland</td>\n",
       "      <td>Crossland</td>\n",
       "      <td>SUV</td>\n",
       "      <td>ROČNI</td>\n",
       "      <td>DIEZEL</td>\n",
       "      <td>NaN</td>\n",
       "      <td>6.0</td>\n",
       "      <td>110.0</td>\n",
       "      <td>81.0</td>\n",
       "      <td>1.499</td>\n",
       "      <td>https://www.avto.net/Ads/details.asp?id=177744...</td>\n",
       "      <td>Opel Crossland 1.5 CDTI 81KW EDITION</td>\n",
       "      <td>2021</td>\n",
       "      <td>17823</td>\n",
       "      <td>17950.0</td>\n",
       "      <td>avtonet</td>\n",
       "      <td>19496.0</td>\n",
       "      <td>1930.0</td>\n",
       "    </tr>\n",
       "    <tr>\n",
       "      <th>651</th>\n",
       "      <td>651</td>\n",
       "      <td>Opel</td>\n",
       "      <td>Crossland</td>\n",
       "      <td>Astra Sport Sedan</td>\n",
       "      <td>NaN</td>\n",
       "      <td>ROČNI</td>\n",
       "      <td>BENCIN</td>\n",
       "      <td>NaN</td>\n",
       "      <td>5.0</td>\n",
       "      <td>100.0</td>\n",
       "      <td>NaN</td>\n",
       "      <td>NaN</td>\n",
       "      <td>https://www.avto.net/Ads/details.asp?id=177703...</td>\n",
       "      <td>Opel Crossland 1.2 TURBO INNOVATION+SLO+1.LAST...</td>\n",
       "      <td>2018</td>\n",
       "      <td>30000</td>\n",
       "      <td>15870.0</td>\n",
       "      <td>avtonet</td>\n",
       "      <td>19376.0</td>\n",
       "      <td>1919.0</td>\n",
       "    </tr>\n",
       "  </tbody>\n",
       "</table>\n",
       "</div>"
      ],
      "text/plain": [
       "     Unnamed: 0 ime_znamke ime_modela      ime_razlicice tip_modela menjalnik  \\\n",
       "649         649       Opel  Crossland          Crossland        SUV     ROČNI   \n",
       "650         650       Opel  Crossland          Crossland        SUV     ROČNI   \n",
       "651         651       Opel  Crossland  Astra Sport Sedan        NaN     ROČNI   \n",
       "\n",
       "    vrsta_motorja  stevilo_vrat  stevilo_prestav  konjske_moci  kilovati  \\\n",
       "649        BENCIN           NaN              5.0         110.0      81.0   \n",
       "650        DIEZEL           NaN              6.0         110.0      81.0   \n",
       "651        BENCIN           NaN              5.0         100.0       NaN   \n",
       "\n",
       "     prostornina_motorja                                           povezava  \\\n",
       "649                1.199  https://www.avto.net/Ads/details.asp?id=177754...   \n",
       "650                1.499  https://www.avto.net/Ads/details.asp?id=177744...   \n",
       "651                  NaN  https://www.avto.net/Ads/details.asp?id=177703...   \n",
       "\n",
       "                                         naslov_oglasa  leto_izdelave  \\\n",
       "649             Opel Crossland 1.2 TURBO 81KW ELEGANCE           2022   \n",
       "650               Opel Crossland 1.5 CDTI 81KW EDITION           2021   \n",
       "651  Opel Crossland 1.2 TURBO INNOVATION+SLO+1.LAST...           2018   \n",
       "\n",
       "     stevilo_kilometrov     cena platforma  id_razlicice  id_modela  \n",
       "649                1050  23100.0   avtonet       19491.0     1930.0  \n",
       "650               17823  17950.0   avtonet       19496.0     1930.0  \n",
       "651               30000  15870.0   avtonet       19376.0     1919.0  "
      ]
     },
     "execution_count": 101,
     "metadata": {},
     "output_type": "execute_result"
    }
   ],
   "source": [
    "avti[avti.ime_modela.str.contains(\"slan\", na=False)].head(3)"
   ]
  },
  {
   "cell_type": "markdown",
   "metadata": {},
   "source": [
    "### Število prestav skozi leta"
   ]
  },
  {
   "cell_type": "code",
   "execution_count": 104,
   "metadata": {},
   "outputs": [
    {
     "data": {
      "text/plain": [
       "<AxesSubplot:xlabel='leto_izdelave'>"
      ]
     },
     "execution_count": 104,
     "metadata": {},
     "output_type": "execute_result"
    },
    {
     "data": {
      "image/png": "[encoded data removed]",
      "text/plain": [
       "<Figure size 432x288 with 1 Axes>"
      ]
     },
     "metadata": {
      "needs_background": "light"
     },
     "output_type": "display_data"
    }
   ],
   "source": [
    "avti.groupby(\"leto_izdelave\").stevilo_prestav.mean().plot()"
   ]
  },
  {
   "cell_type": "markdown",
   "metadata": {},
   "source": [
    "### Najpogostejši modeli in različice posameznega modela\n",
    "*Opomba*: oznaka **različica** predstavlja določeno izvedbo modela avtomobila (npr. z določenim motorjem in menjalnikom)."
   ]
  },
  {
   "cell_type": "code",
   "execution_count": 112,
   "metadata": {},
   "outputs": [
    {
     "ename": "KeyError",
     "evalue": "'opis_razlicice'",
     "output_type": "error",
     "traceback": [
      "\u001b[0;31m---------------------------------------------------------------------------\u001b[0m",
      "\u001b[0;31mKeyError\u001b[0m                                  Traceback (most recent call last)",
      "\u001b[1;32m/mnt/Dokumenti/šola/FAKULTETA/1. letnik FMF/Programiranje 1/programiranje_1_projektna_naloga/src/analiza.ipynb Cell 8\u001b[0m in \u001b[0;36m<module>\u001b[0;34m\u001b[0m\n\u001b[0;32m----> <a href='vscode-notebook-cell:/mnt/Dokumenti/%C5%A1ola/FAKULTETA/1.%20letnik%20FMF/Programiranje%201/programiranje_1_projektna_naloga/src/analiza.ipynb#W6sZmlsZQ%3D%3D?line=0'>1</a>\u001b[0m razlicice \u001b[39m=\u001b[39m avti\u001b[39m.\u001b[39;49mgroupby([\u001b[39m\"\u001b[39;49m\u001b[39mime_znamke\u001b[39;49m\u001b[39m\"\u001b[39;49m, \u001b[39m\"\u001b[39;49m\u001b[39mime_modela\u001b[39;49m\u001b[39m\"\u001b[39;49m, \u001b[39m\"\u001b[39;49m\u001b[39mopis_razlicice\u001b[39;49m\u001b[39m\"\u001b[39;49m])\n\u001b[1;32m      <a href='vscode-notebook-cell:/mnt/Dokumenti/%C5%A1ola/FAKULTETA/1.%20letnik%20FMF/Programiranje%201/programiranje_1_projektna_naloga/src/analiza.ipynb#W6sZmlsZQ%3D%3D?line=1'>2</a>\u001b[0m naj_razlicice \u001b[39m=\u001b[39m razlicice\u001b[39m.\u001b[39msize()\u001b[39m.\u001b[39msort_values(ascending\u001b[39m=\u001b[39m\u001b[39mFalse\u001b[39;00m)\n\u001b[1;32m      <a href='vscode-notebook-cell:/mnt/Dokumenti/%C5%A1ola/FAKULTETA/1.%20letnik%20FMF/Programiranje%201/programiranje_1_projektna_naloga/src/analiza.ipynb#W6sZmlsZQ%3D%3D?line=2'>3</a>\u001b[0m naj_modeli \u001b[39m=\u001b[39m avti\u001b[39m.\u001b[39mgroupby(\u001b[39m\"\u001b[39m\u001b[39mid_modela\u001b[39m\u001b[39m\"\u001b[39m)\u001b[39m.\u001b[39msize()\u001b[39m.\u001b[39msort_values(ascending\u001b[39m=\u001b[39m\u001b[39mFalse\u001b[39;00m)\n",
      "File \u001b[0;32m/usr/lib64/python3.10/site-packages/pandas/core/frame.py:7631\u001b[0m, in \u001b[0;36mDataFrame.groupby\u001b[0;34m(self, by, axis, level, as_index, sort, group_keys, squeeze, observed, dropna)\u001b[0m\n\u001b[1;32m   7627\u001b[0m axis \u001b[39m=\u001b[39m \u001b[39mself\u001b[39m\u001b[39m.\u001b[39m_get_axis_number(axis)\n\u001b[1;32m   7629\u001b[0m \u001b[39m# error: Argument \"squeeze\" to \"DataFrameGroupBy\" has incompatible type\u001b[39;00m\n\u001b[1;32m   7630\u001b[0m \u001b[39m# \"Union[bool, NoDefault]\"; expected \"bool\"\u001b[39;00m\n\u001b[0;32m-> 7631\u001b[0m \u001b[39mreturn\u001b[39;00m DataFrameGroupBy(\n\u001b[1;32m   7632\u001b[0m     obj\u001b[39m=\u001b[39;49m\u001b[39mself\u001b[39;49m,\n\u001b[1;32m   7633\u001b[0m     keys\u001b[39m=\u001b[39;49mby,\n\u001b[1;32m   7634\u001b[0m     axis\u001b[39m=\u001b[39;49maxis,\n\u001b[1;32m   7635\u001b[0m     level\u001b[39m=\u001b[39;49mlevel,\n\u001b[1;32m   7636\u001b[0m     as_index\u001b[39m=\u001b[39;49mas_index,\n\u001b[1;32m   7637\u001b[0m     sort\u001b[39m=\u001b[39;49msort,\n\u001b[1;32m   7638\u001b[0m     group_keys\u001b[39m=\u001b[39;49mgroup_keys,\n\u001b[1;32m   7639\u001b[0m     squeeze\u001b[39m=\u001b[39;49msqueeze,  \u001b[39m# type: ignore[arg-type]\u001b[39;49;00m\n\u001b[1;32m   7640\u001b[0m     observed\u001b[39m=\u001b[39;49mobserved,\n\u001b[1;32m   7641\u001b[0m     dropna\u001b[39m=\u001b[39;49mdropna,\n\u001b[1;32m   7642\u001b[0m )\n",
      "File \u001b[0;32m/usr/lib64/python3.10/site-packages/pandas/core/groupby/groupby.py:889\u001b[0m, in \u001b[0;36mGroupBy.__init__\u001b[0;34m(self, obj, keys, axis, level, grouper, exclusions, selection, as_index, sort, group_keys, squeeze, observed, mutated, dropna)\u001b[0m\n\u001b[1;32m    886\u001b[0m \u001b[39mif\u001b[39;00m grouper \u001b[39mis\u001b[39;00m \u001b[39mNone\u001b[39;00m:\n\u001b[1;32m    887\u001b[0m     \u001b[39mfrom\u001b[39;00m \u001b[39mpandas\u001b[39;00m\u001b[39m.\u001b[39;00m\u001b[39mcore\u001b[39;00m\u001b[39m.\u001b[39;00m\u001b[39mgroupby\u001b[39;00m\u001b[39m.\u001b[39;00m\u001b[39mgrouper\u001b[39;00m \u001b[39mimport\u001b[39;00m get_grouper\n\u001b[0;32m--> 889\u001b[0m     grouper, exclusions, obj \u001b[39m=\u001b[39m get_grouper(\n\u001b[1;32m    890\u001b[0m         obj,\n\u001b[1;32m    891\u001b[0m         keys,\n\u001b[1;32m    892\u001b[0m         axis\u001b[39m=\u001b[39;49maxis,\n\u001b[1;32m    893\u001b[0m         level\u001b[39m=\u001b[39;49mlevel,\n\u001b[1;32m    894\u001b[0m         sort\u001b[39m=\u001b[39;49msort,\n\u001b[1;32m    895\u001b[0m         observed\u001b[39m=\u001b[39;49mobserved,\n\u001b[1;32m    896\u001b[0m         mutated\u001b[39m=\u001b[39;49m\u001b[39mself\u001b[39;49m\u001b[39m.\u001b[39;49mmutated,\n\u001b[1;32m    897\u001b[0m         dropna\u001b[39m=\u001b[39;49m\u001b[39mself\u001b[39;49m\u001b[39m.\u001b[39;49mdropna,\n\u001b[1;32m    898\u001b[0m     )\n\u001b[1;32m    900\u001b[0m \u001b[39mself\u001b[39m\u001b[39m.\u001b[39mobj \u001b[39m=\u001b[39m obj\n\u001b[1;32m    901\u001b[0m \u001b[39mself\u001b[39m\u001b[39m.\u001b[39maxis \u001b[39m=\u001b[39m obj\u001b[39m.\u001b[39m_get_axis_number(axis)\n",
      "File \u001b[0;32m/usr/lib64/python3.10/site-packages/pandas/core/groupby/grouper.py:862\u001b[0m, in \u001b[0;36mget_grouper\u001b[0;34m(obj, key, axis, level, sort, observed, mutated, validate, dropna)\u001b[0m\n\u001b[1;32m    860\u001b[0m         in_axis, level, gpr \u001b[39m=\u001b[39m \u001b[39mFalse\u001b[39;00m, gpr, \u001b[39mNone\u001b[39;00m\n\u001b[1;32m    861\u001b[0m     \u001b[39melse\u001b[39;00m:\n\u001b[0;32m--> 862\u001b[0m         \u001b[39mraise\u001b[39;00m \u001b[39mKeyError\u001b[39;00m(gpr)\n\u001b[1;32m    863\u001b[0m \u001b[39melif\u001b[39;00m \u001b[39misinstance\u001b[39m(gpr, Grouper) \u001b[39mand\u001b[39;00m gpr\u001b[39m.\u001b[39mkey \u001b[39mis\u001b[39;00m \u001b[39mnot\u001b[39;00m \u001b[39mNone\u001b[39;00m:\n\u001b[1;32m    864\u001b[0m     \u001b[39m# Add key to exclusions\u001b[39;00m\n\u001b[1;32m    865\u001b[0m     exclusions\u001b[39m.\u001b[39madd(gpr\u001b[39m.\u001b[39mkey)\n",
      "\u001b[0;31mKeyError\u001b[0m: 'opis_razlicice'"
     ]
    }
   ],
   "source": [
    "razlicice = avti.groupby([\"ime_znamke\", \"ime_razlicice\"])\n",
    "naj_razlicice = razlicice.size().sort_values(ascending=False)\n",
    "naj_modeli = avti.groupby(\"id_modela\").size().sort_values(ascending=False)\n",
    "\n",
    "naj_razlicice.head()"
   ]
  },
  {
   "cell_type": "code",
   "execution_count": 9,
   "metadata": {},
   "outputs": [
    {
     "data": {
      "text/plain": [
       "Float64Index([ 1543.0,  1531.0,   911.0,   880.0,   932.0,   681.0,   848.0,\n",
       "               3158.0,  1545.0,  2742.0,\n",
       "              ...\n",
       "               6112.0, 12073.0,  6114.0,  6124.0,  6176.0,  6179.0, 11930.0,\n",
       "              11890.0, 11872.0, 22771.0],\n",
       "             dtype='float64', name='id_razlicice', length=1447)"
      ]
     },
     "execution_count": 9,
     "metadata": {},
     "output_type": "execute_result"
    }
   ],
   "source": [
    "naj_razlicice.keys()"
   ]
  },
  {
   "cell_type": "code",
   "execution_count": 17,
   "metadata": {},
   "outputs": [
    {
     "data": {
      "text/plain": [
       "<AxesSubplot:xlabel='stevilo_kilometrov', ylabel='cena'>"
      ]
     },
     "execution_count": 17,
     "metadata": {},
     "output_type": "execute_result"
    },
    {
     "data": {
      "image/png": "[encoded data removed]",
      "text/plain": [
       "<Figure size 432x288 with 1 Axes>"
      ]
     },
     "metadata": {
      "needs_background": "light"
     },
     "output_type": "display_data"
    }
   ],
   "source": [
    "avti[avti.id_modela == naj_modeli.keys()[2]].plot.scatter(\"stevilo_kilometrov\", \"cena\")"
   ]
  },
  {
   "cell_type": "code",
   "execution_count": 65,
   "metadata": {},
   "outputs": [
    {
     "data": {
      "text/plain": [
       "<AxesSubplot:xlabel='leto_izdelave', ylabel='cena'>"
      ]
     },
     "execution_count": 65,
     "metadata": {},
     "output_type": "execute_result"
    },
    {
     "data": {
      "image/png": "[encoded data removed]",
      "text/plain": [
       "<Figure size 432x288 with 1 Axes>"
      ]
     },
     "metadata": {
      "needs_background": "light"
     },
     "output_type": "display_data"
    }
   ],
   "source": [
    "naj_model = avti[avti.id_modela == naj_modeli.keys()[6]]\n",
    "naj_model.plot.scatter(\"leto_izdelave\", \"cena\", c=naj_model.kilovati, legend=True)"
   ]
  },
  {
   "cell_type": "code",
   "execution_count": 66,
   "metadata": {},
   "outputs": [
    {
     "data": {
      "text/plain": [
       "<AxesSubplot:xlabel='kilovati', ylabel='cena'>"
      ]
     },
     "execution_count": 66,
     "metadata": {},
     "output_type": "execute_result"
    },
    {
     "data": {
      "image/png": "[encoded data removed]",
      "text/plain": [
       "<Figure size 432x288 with 1 Axes>"
      ]
     },
     "metadata": {
      "needs_background": "light"
     },
     "output_type": "display_data"
    }
   ],
   "source": [
    "naj_model.plot.scatter(\"kilovati\", \"cena\", c=(2022-naj_model.leto_izdelave)/25)"
   ]
  },
  {
   "cell_type": "code",
   "execution_count": 67,
   "metadata": {},
   "outputs": [
    {
     "data": {
      "text/plain": [
       "<matplotlib.legend.Legend at 0x7f25835d75b0>"
      ]
     },
     "execution_count": 67,
     "metadata": {},
     "output_type": "execute_result"
    },
    {
     "data": {
      "image/png": "[encoded data removed]",
      "text/plain": [
       "<Figure size 1080x576 with 1 Axes>"
      ]
     },
     "metadata": {
      "needs_background": "light"
     },
     "output_type": "display_data"
    }
   ],
   "source": [
    "import matplotlib.pyplot as plt\n",
    "fig, ax = plt.subplots(figsize=(15,8))\n",
    "for name, group in naj_model.groupby(\"vrsta_motorja\"):\n",
    "    ax.plot(group.leto_izdelave, group.cena, marker='.', linestyle='', ms=7, label=name)\n",
    "ax.legend(numpoints=1, loc='upper left')"
   ]
  },
  {
   "cell_type": "code",
   "execution_count": 20,
   "metadata": {},
   "outputs": [
    {
     "data": {
      "text/plain": [
       "<AxesSubplot:xlabel='vrsta_motorja'>"
      ]
     },
     "execution_count": 20,
     "metadata": {},
     "output_type": "execute_result"
    },
    {
     "data": {
      "image/png": "[encoded data removed]",
      "text/plain": [
       "<Figure size 432x288 with 1 Axes>"
      ]
     },
     "metadata": {
      "needs_background": "light"
     },
     "output_type": "display_data"
    }
   ],
   "source": [
    "avti.groupby(\"vrsta_motorja\").mean().cena.plot.bar()"
   ]
  },
  {
   "cell_type": "code",
   "execution_count": 30,
   "metadata": {},
   "outputs": [
    {
     "data": {
      "text/plain": [
       "<AxesSubplot:xlabel='leto_izdelave'>"
      ]
     },
     "execution_count": 30,
     "metadata": {},
     "output_type": "execute_result"
    },
    {
     "data": {
      "image/png": "[encoded data removed]",
      "text/plain": [
       "<Figure size 432x288 with 1 Axes>"
      ]
     },
     "metadata": {
      "needs_background": "light"
     },
     "output_type": "display_data"
    }
   ],
   "source": [
    "el_avti_po_letih = avti[avti.vrsta_motorja == \"ELEKTRIČNI\"].groupby(\"leto_izdelave\").size()\n",
    "avti_po_letih = avti.groupby(\"leto_izdelave\").size()\n",
    "\n",
    "(el_avti_po_letih / avti_po_letih).plot()"
   ]
  },
  {
   "cell_type": "code",
   "execution_count": null,
   "metadata": {},
   "outputs": [],
   "source": []
  }
 ],
 "metadata": {
  "kernelspec": {
   "display_name": "Python 3.10.7 ('usr')",
   "language": "python",
   "name": "python3"
  },
  "language_info": {
   "codemirror_mode": {
    "name": "ipython",
    "version": 3
   },
   "file_extension": ".py",
   "mimetype": "text/x-python",
   "name": "python",
   "nbconvert_exporter": "python",
   "pygments_lexer": "ipython3",
   "version": "3.10.7"
  },
  "orig_nbformat": 4,
  "vscode": {
   "interpreter": {
    "hash": "31f2aee4e71d21fbe5cf8b01ff0e069b9275f58929596ceb00d14d90e3e16cd6"
   }
  }
 },
 "nbformat": 4,
 "nbformat_minor": 2
}
