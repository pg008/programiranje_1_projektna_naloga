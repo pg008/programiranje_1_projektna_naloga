{
 "cells": [
  {
   "cell_type": "code",
   "execution_count": 2,
   "metadata": {},
   "outputs": [
    {
     "data": {
      "text/html": [
       "<div>\n",
       "<style scoped>\n",
       "    .dataframe tbody tr th:only-of-type {\n",
       "        vertical-align: middle;\n",
       "    }\n",
       "\n",
       "    .dataframe tbody tr th {\n",
       "        vertical-align: top;\n",
       "    }\n",
       "\n",
       "    .dataframe thead th {\n",
       "        text-align: right;\n",
       "    }\n",
       "</style>\n",
       "<table border=\"1\" class=\"dataframe\">\n",
       "  <thead>\n",
       "    <tr style=\"text-align: right;\">\n",
       "      <th></th>\n",
       "      <th>Unnamed: 0</th>\n",
       "      <th>ime_znamke</th>\n",
       "      <th>ime_modela</th>\n",
       "      <th>ime_razlicice</th>\n",
       "      <th>tip_modela</th>\n",
       "      <th>menjalnik</th>\n",
       "      <th>vrsta_motorja</th>\n",
       "      <th>stevilo_vrat</th>\n",
       "      <th>stevilo_prestav</th>\n",
       "      <th>konjske_moci</th>\n",
       "      <th>kilovati</th>\n",
       "      <th>prostornina_motorja</th>\n",
       "      <th>povezava</th>\n",
       "      <th>naslov_oglasa</th>\n",
       "      <th>leto_izdelave</th>\n",
       "      <th>stevilo_kilometrov</th>\n",
       "      <th>cena</th>\n",
       "      <th>platforma</th>\n",
       "      <th>id_razlicice</th>\n",
       "      <th>id_modela</th>\n",
       "    </tr>\n",
       "  </thead>\n",
       "  <tbody>\n",
       "    <tr>\n",
       "      <th>0</th>\n",
       "      <td>0</td>\n",
       "      <td>RENAULT</td>\n",
       "      <td>Megane Sedan</td>\n",
       "      <td>Megane Sedan</td>\n",
       "      <td>KARAVAN</td>\n",
       "      <td>ROČNI</td>\n",
       "      <td>DIEZEL</td>\n",
       "      <td>5</td>\n",
       "      <td>6.0</td>\n",
       "      <td>NaN</td>\n",
       "      <td>131.0</td>\n",
       "      <td>1.87</td>\n",
       "      <td>https://www.bolha.com/avto-oglasi/renault-mega...</td>\n",
       "      <td>Renault Megane 2</td>\n",
       "      <td>2007.0</td>\n",
       "      <td>332000.0</td>\n",
       "      <td>1600.0</td>\n",
       "      <td>bolha</td>\n",
       "      <td>21846.0</td>\n",
       "      <td>2201.0</td>\n",
       "    </tr>\n",
       "    <tr>\n",
       "      <th>1</th>\n",
       "      <td>1</td>\n",
       "      <td>Smart</td>\n",
       "      <td>fortwo coupe</td>\n",
       "      <td>passion</td>\n",
       "      <td>COUPÉ</td>\n",
       "      <td>NaN</td>\n",
       "      <td>BENCIN</td>\n",
       "      <td>3</td>\n",
       "      <td>NaN</td>\n",
       "      <td>NaN</td>\n",
       "      <td>NaN</td>\n",
       "      <td>999.00</td>\n",
       "      <td>https://www.bolha.com/avto-oglasi/smart-fortwo...</td>\n",
       "      <td>Smart fortwo coupe passion</td>\n",
       "      <td>2014.0</td>\n",
       "      <td>86000.0</td>\n",
       "      <td>7900.0</td>\n",
       "      <td>bolha</td>\n",
       "      <td>NaN</td>\n",
       "      <td>NaN</td>\n",
       "    </tr>\n",
       "    <tr>\n",
       "      <th>2</th>\n",
       "      <td>2</td>\n",
       "      <td>VOLKSWAGEN</td>\n",
       "      <td>Golf Cabrio</td>\n",
       "      <td>Golf VI Cabrio</td>\n",
       "      <td>SPREMENLJIV</td>\n",
       "      <td>ROČNI</td>\n",
       "      <td>BENCIN</td>\n",
       "      <td>2</td>\n",
       "      <td>NaN</td>\n",
       "      <td>NaN</td>\n",
       "      <td>25.0</td>\n",
       "      <td>1.20</td>\n",
       "      <td>https://www.bolha.com/avto-oglasi/vw-buggy-ned...</td>\n",
       "      <td>VW Buggy Nedokončan</td>\n",
       "      <td>1976.0</td>\n",
       "      <td>50000.0</td>\n",
       "      <td>3800.0</td>\n",
       "      <td>bolha</td>\n",
       "      <td>28041.0</td>\n",
       "      <td>2683.0</td>\n",
       "    </tr>\n",
       "  </tbody>\n",
       "</table>\n",
       "</div>"
      ],
      "text/plain": [
       "   Unnamed: 0  ime_znamke    ime_modela   ime_razlicice   tip_modela  \\\n",
       "0           0     RENAULT  Megane Sedan    Megane Sedan      KARAVAN   \n",
       "1           1       Smart  fortwo coupe         passion        COUPÉ   \n",
       "2           2  VOLKSWAGEN   Golf Cabrio  Golf VI Cabrio  SPREMENLJIV   \n",
       "\n",
       "  menjalnik vrsta_motorja  stevilo_vrat  stevilo_prestav  konjske_moci  \\\n",
       "0     ROČNI        DIEZEL             5              6.0           NaN   \n",
       "1       NaN        BENCIN             3              NaN           NaN   \n",
       "2     ROČNI        BENCIN             2              NaN           NaN   \n",
       "\n",
       "   kilovati  prostornina_motorja  \\\n",
       "0     131.0                 1.87   \n",
       "1       NaN               999.00   \n",
       "2      25.0                 1.20   \n",
       "\n",
       "                                            povezava  \\\n",
       "0  https://www.bolha.com/avto-oglasi/renault-mega...   \n",
       "1  https://www.bolha.com/avto-oglasi/smart-fortwo...   \n",
       "2  https://www.bolha.com/avto-oglasi/vw-buggy-ned...   \n",
       "\n",
       "                naslov_oglasa  leto_izdelave  stevilo_kilometrov    cena  \\\n",
       "0            Renault Megane 2         2007.0            332000.0  1600.0   \n",
       "1  Smart fortwo coupe passion         2014.0             86000.0  7900.0   \n",
       "2         VW Buggy Nedokončan         1976.0             50000.0  3800.0   \n",
       "\n",
       "  platforma  id_razlicice  id_modela  \n",
       "0     bolha       21846.0     2201.0  \n",
       "1     bolha           NaN        NaN  \n",
       "2     bolha       28041.0     2683.0  "
      ]
     },
     "execution_count": 2,
     "metadata": {},
     "output_type": "execute_result"
    }
   ],
   "source": [
    "import pandas as pd\n",
    "\n",
    "avti = pd.read_csv(\"../podatki/bolha_avtomobili_4.csv\")\n",
    "avti.head(3)"
   ]
  },
  {
   "cell_type": "code",
   "execution_count": 17,
   "metadata": {},
   "outputs": [
    {
     "data": {
      "text/plain": [
       "id_modela\n",
       "2638.0    28\n",
       "2205.0    21\n",
       "145.0     18\n",
       "2655.0    16\n",
       "2683.0    16\n",
       "          ..\n",
       "1921.0     1\n",
       "710.0      1\n",
       "1936.0     1\n",
       "1939.0     1\n",
       "1553.0     1\n",
       "Length: 301, dtype: int64"
      ]
     },
     "execution_count": 17,
     "metadata": {},
     "output_type": "execute_result"
    }
   ],
   "source": [
    "avti.groupby(avti.id_modela).size().sort_values(ascending=False)"
   ]
  },
  {
   "cell_type": "code",
   "execution_count": 38,
   "metadata": {},
   "outputs": [
    {
     "data": {
      "text/plain": [
       "<AxesSubplot:xlabel='stevilo_kilometrov', ylabel='cena'>"
      ]
     },
     "execution_count": 38,
     "metadata": {},
     "output_type": "execute_result"
    },
    {
     "data": {
      "image/png": "[encoded data removed]",
      "text/plain": [
       "<Figure size 432x288 with 1 Axes>"
      ]
     },
     "metadata": {
      "needs_background": "light"
     },
     "output_type": "display_data"
    }
   ],
   "source": [
    "avti[(40 < avti.kilovati) & (avti.kilovati < 90)].plot.scatter(\"stevilo_kilometrov\", \"cena\", xlim=(0, 0.6e6), ylim=(1000, 20000))"
   ]
  },
  {
   "cell_type": "code",
   "execution_count": 36,
   "metadata": {},
   "outputs": [
    {
     "data": {
      "text/plain": [
       "<AxesSubplot:xlabel='starost', ylabel='cena'>"
      ]
     },
     "execution_count": 36,
     "metadata": {},
     "output_type": "execute_result"
    },
    {
     "data": {
      "image/png": "[encoded data removed]",
      "text/plain": [
       "<Figure size 432x288 with 1 Axes>"
      ]
     },
     "metadata": {
      "needs_background": "light"
     },
     "output_type": "display_data"
    }
   ],
   "source": [
    "avti[\"starost\"] = 2022 - avti.leto_izdelave\n",
    "avti[(40 < avti.kilovati) & (avti.kilovati < 90)].plot.scatter(\"starost\", \"cena\", xlim=(0, 15), ylim=(1000, 50000))"
   ]
  },
  {
   "cell_type": "code",
   "execution_count": 33,
   "metadata": {},
   "outputs": [
    {
     "data": {
      "text/plain": [
       "<AxesSubplot:xlabel='kilovati', ylabel='cena'>"
      ]
     },
     "execution_count": 33,
     "metadata": {},
     "output_type": "execute_result"
    },
    {
     "data": {
      "image/png": "[encoded data removed]",
      "text/plain": [
       "<Figure size 432x288 with 1 Axes>"
      ]
     },
     "metadata": {
      "needs_background": "light"
     },
     "output_type": "display_data"
    }
   ],
   "source": [
    "avti.plot.scatter(\"kilovati\", \"cena\", xlim=(0, 200))"
   ]
  },
  {
   "cell_type": "code",
   "execution_count": null,
   "metadata": {},
   "outputs": [],
   "source": []
  }
 ],
 "metadata": {
  "kernelspec": {
   "display_name": "Python 3.10.7 ('usr')",
   "language": "python",
   "name": "python3"
  },
  "language_info": {
   "codemirror_mode": {
    "name": "ipython",
    "version": 3
   },
   "file_extension": ".py",
   "mimetype": "text/x-python",
   "name": "python",
   "nbconvert_exporter": "python",
   "pygments_lexer": "ipython3",
   "version": "3.10.7"
  },
  "orig_nbformat": 4,
  "vscode": {
   "interpreter": {
    "hash": "31f2aee4e71d21fbe5cf8b01ff0e069b9275f58929596ceb00d14d90e3e16cd6"
   }
  }
 },
 "nbformat": 4,
 "nbformat_minor": 2
}
